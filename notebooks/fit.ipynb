{
 "cells": [
  {
   "metadata": {},
   "cell_type": "markdown",
   "source": "## Fit PDF\n",
   "id": "64b5e60b44dad89c"
  },
  {
   "metadata": {
    "ExecuteTime": {
     "end_time": "2024-09-26T17:16:51.540809Z",
     "start_time": "2024-09-26T17:16:46.031383Z"
    }
   },
   "cell_type": "code",
   "source": [
    "# load csv\n",
    "import pandas as pd\n",
    "\n",
    "df = pd.read_excel('../data/dataset.xlsx')"
   ],
   "id": "fb14a4cdf8994a74",
   "outputs": [
    {
     "data": {
      "text/plain": [
       "Summary                                                           14210\n",
       "Issue key                                                         14210\n",
       "Issue id                                                          14210\n",
       "Issue Type                                                        14210\n",
       "Status                                                            14210\n",
       "Project key                                                       14210\n",
       "Project name                                                      14210\n",
       "Project type                                                      14210\n",
       "Project lead                                                      14210\n",
       "Project description                                                   0\n",
       "Project url                                                       14210\n",
       "Priority                                                          11662\n",
       "Resolution                                                         6909\n",
       "Assignee                                                            294\n",
       "Reporter                                                          14210\n",
       "Creator                                                           14210\n",
       "Created                                                           14210\n",
       "Updated                                                           14210\n",
       "Last Viewed                                                       14210\n",
       "Resolved                                                           6909\n",
       "Affects Version/s                                                 11564\n",
       "Affects Version/s_1                                                 588\n",
       "Fix Version/s                                                       490\n",
       "Component/s                                                       14210\n",
       "Due Date                                                              0\n",
       "Votes                                                             14210\n",
       "Labels                                                             1960\n",
       "Description                                                       14210\n",
       "ss                                                                14210\n",
       "Custom field (Company)                                            14210\n",
       "Unnamed: 30                                                           0\n",
       "Custom field (Date of First Response)                             10094\n",
       "Custom field (Does fix include system behavior or UI changes?)     5341\n",
       "Custom field (Feedback About)                                     14063\n",
       "Custom field (Feedback Policy)                                     2646\n",
       "Custom field (Last Touched By)                                    14210\n",
       "Custom field (Last Update On)                                         0\n",
       "Custom field (Last commented)                                     14210\n",
       "Custom field (Last commented by user?)                            14210\n",
       "Custom field (Symptom Severity)                                   11613\n",
       "dtype: int64"
      ]
     },
     "execution_count": 39,
     "metadata": {},
     "output_type": "execute_result"
    }
   ],
   "execution_count": 39
  },
  {
   "metadata": {
    "ExecuteTime": {
     "end_time": "2024-09-26T17:17:00.938528Z",
     "start_time": "2024-09-26T17:17:00.925049Z"
    }
   },
   "cell_type": "code",
   "source": "df.count()",
   "id": "e43fe61b12db5431",
   "outputs": [
    {
     "data": {
      "text/plain": [
       "Summary                                                           14210\n",
       "Issue key                                                         14210\n",
       "Issue id                                                          14210\n",
       "Issue Type                                                        14210\n",
       "Status                                                            14210\n",
       "Project key                                                       14210\n",
       "Project name                                                      14210\n",
       "Project type                                                      14210\n",
       "Project lead                                                      14210\n",
       "Project description                                                   0\n",
       "Project url                                                       14210\n",
       "Priority                                                          11662\n",
       "Resolution                                                         6909\n",
       "Assignee                                                            294\n",
       "Reporter                                                          14210\n",
       "Creator                                                           14210\n",
       "Created                                                           14210\n",
       "Updated                                                           14210\n",
       "Last Viewed                                                       14210\n",
       "Resolved                                                           6909\n",
       "Affects Version/s                                                 11564\n",
       "Affects Version/s_1                                                 588\n",
       "Fix Version/s                                                       490\n",
       "Component/s                                                       14210\n",
       "Due Date                                                              0\n",
       "Votes                                                             14210\n",
       "Labels                                                             1960\n",
       "Description                                                       14210\n",
       "ss                                                                14210\n",
       "Custom field (Company)                                            14210\n",
       "Unnamed: 30                                                           0\n",
       "Custom field (Date of First Response)                             10094\n",
       "Custom field (Does fix include system behavior or UI changes?)     5341\n",
       "Custom field (Feedback About)                                     14063\n",
       "Custom field (Feedback Policy)                                     2646\n",
       "Custom field (Last Touched By)                                    14210\n",
       "Custom field (Last Update On)                                         0\n",
       "Custom field (Last commented)                                     14210\n",
       "Custom field (Last commented by user?)                            14210\n",
       "Custom field (Symptom Severity)                                   11613\n",
       "dtype: int64"
      ]
     },
     "execution_count": 40,
     "metadata": {},
     "output_type": "execute_result"
    }
   ],
   "execution_count": 40
  },
  {
   "metadata": {
    "ExecuteTime": {
     "end_time": "2024-09-26T17:02:06.718489Z",
     "start_time": "2024-09-26T17:02:06.707096Z"
    }
   },
   "cell_type": "code",
   "source": "df.head()",
   "id": "fba18910025184c0",
   "outputs": [
    {
     "data": {
      "text/plain": [
       "                                             Summary         Issue key  \\\n",
       "0  Unable to start SourceTree after updating from...  SRCTREEWIN-13997   \n",
       "1  Unable to start SourceTree after updating from...  SRCTREEWIN-13997   \n",
       "2  Unable to start SourceTree after updating from...  SRCTREEWIN-13997   \n",
       "3  Unable to start SourceTree after updating from...  SRCTREEWIN-13997   \n",
       "4  Unable to start SourceTree after updating from...  SRCTREEWIN-13997   \n",
       "\n",
       "   Issue id Issue Type              Status Project key  \\\n",
       "0   1929802        Bug  Short Term Backlog  SRCTREEWIN   \n",
       "1   1929802        Bug  Short Term Backlog  SRCTREEWIN   \n",
       "2   1929802        Bug  Short Term Backlog  SRCTREEWIN   \n",
       "3   1929802        Bug  Short Term Backlog  SRCTREEWIN   \n",
       "4   1929802        Bug  Short Term Backlog  SRCTREEWIN   \n",
       "\n",
       "             Project name Project type Project lead  Project description  ...  \\\n",
       "0  Sourcetree for Windows     software       rgomis                  NaN  ...   \n",
       "1  Sourcetree for Windows     software       rgomis                  NaN  ...   \n",
       "2  Sourcetree for Windows     software       rgomis                  NaN  ...   \n",
       "3  Sourcetree for Windows     software       rgomis                  NaN  ...   \n",
       "4  Sourcetree for Windows     software       rgomis                  NaN  ...   \n",
       "\n",
       "  Unnamed: 30 Custom field (Date of First Response)  \\\n",
       "0         NaN               2023-05-25 06:00:37.226   \n",
       "1         NaN               2023-05-25 06:00:37.226   \n",
       "2         NaN               2023-05-25 06:00:37.226   \n",
       "3         NaN               2023-05-25 06:00:37.226   \n",
       "4         NaN               2023-05-25 06:00:37.226   \n",
       "\n",
       "  Custom field (Does fix include system behavior or UI changes?)  \\\n",
       "0                                                 No               \n",
       "1                                                 No               \n",
       "2                                                 No               \n",
       "3                                                 No               \n",
       "4                                                 No               \n",
       "\n",
       "  Custom field (Feedback About) Custom field (Feedback Policy)  \\\n",
       "0                         Other                            NaN   \n",
       "1                         Other                            NaN   \n",
       "2                         Other                            NaN   \n",
       "3                         Other                            NaN   \n",
       "4                         Other                            NaN   \n",
       "\n",
       "  Custom field (Last Touched By) Custom field (Last Update On)  \\\n",
       "0  698877135425(JIRAUSER5932073)                           NaN   \n",
       "1  698877135425(JIRAUSER5932073)                           NaN   \n",
       "2  698877135425(JIRAUSER5932073)                           NaN   \n",
       "3  698877135425(JIRAUSER5932073)                           NaN   \n",
       "4  698877135425(JIRAUSER5932073)                           NaN   \n",
       "\n",
       "  Custom field (Last commented) Custom field (Last commented by user?)  \\\n",
       "0                        518400                                   True   \n",
       "1                        518400                                   True   \n",
       "2                        518400                                   True   \n",
       "3                        518400                                   True   \n",
       "4                        518400                                   True   \n",
       "\n",
       "  Custom field (Symptom Severity)  \n",
       "0           Severity 1 - Critical  \n",
       "1           Severity 1 - Critical  \n",
       "2           Severity 1 - Critical  \n",
       "3           Severity 1 - Critical  \n",
       "4           Severity 1 - Critical  \n",
       "\n",
       "[5 rows x 40 columns]"
      ],
      "text/html": [
       "<div>\n",
       "<style scoped>\n",
       "    .dataframe tbody tr th:only-of-type {\n",
       "        vertical-align: middle;\n",
       "    }\n",
       "\n",
       "    .dataframe tbody tr th {\n",
       "        vertical-align: top;\n",
       "    }\n",
       "\n",
       "    .dataframe thead th {\n",
       "        text-align: right;\n",
       "    }\n",
       "</style>\n",
       "<table border=\"1\" class=\"dataframe\">\n",
       "  <thead>\n",
       "    <tr style=\"text-align: right;\">\n",
       "      <th></th>\n",
       "      <th>Summary</th>\n",
       "      <th>Issue key</th>\n",
       "      <th>Issue id</th>\n",
       "      <th>Issue Type</th>\n",
       "      <th>Status</th>\n",
       "      <th>Project key</th>\n",
       "      <th>Project name</th>\n",
       "      <th>Project type</th>\n",
       "      <th>Project lead</th>\n",
       "      <th>Project description</th>\n",
       "      <th>...</th>\n",
       "      <th>Unnamed: 30</th>\n",
       "      <th>Custom field (Date of First Response)</th>\n",
       "      <th>Custom field (Does fix include system behavior or UI changes?)</th>\n",
       "      <th>Custom field (Feedback About)</th>\n",
       "      <th>Custom field (Feedback Policy)</th>\n",
       "      <th>Custom field (Last Touched By)</th>\n",
       "      <th>Custom field (Last Update On)</th>\n",
       "      <th>Custom field (Last commented)</th>\n",
       "      <th>Custom field (Last commented by user?)</th>\n",
       "      <th>Custom field (Symptom Severity)</th>\n",
       "    </tr>\n",
       "  </thead>\n",
       "  <tbody>\n",
       "    <tr>\n",
       "      <th>0</th>\n",
       "      <td>Unable to start SourceTree after updating from...</td>\n",
       "      <td>SRCTREEWIN-13997</td>\n",
       "      <td>1929802</td>\n",
       "      <td>Bug</td>\n",
       "      <td>Short Term Backlog</td>\n",
       "      <td>SRCTREEWIN</td>\n",
       "      <td>Sourcetree for Windows</td>\n",
       "      <td>software</td>\n",
       "      <td>rgomis</td>\n",
       "      <td>NaN</td>\n",
       "      <td>...</td>\n",
       "      <td>NaN</td>\n",
       "      <td>2023-05-25 06:00:37.226</td>\n",
       "      <td>No</td>\n",
       "      <td>Other</td>\n",
       "      <td>NaN</td>\n",
       "      <td>698877135425(JIRAUSER5932073)</td>\n",
       "      <td>NaN</td>\n",
       "      <td>518400</td>\n",
       "      <td>True</td>\n",
       "      <td>Severity 1 - Critical</td>\n",
       "    </tr>\n",
       "    <tr>\n",
       "      <th>1</th>\n",
       "      <td>Unable to start SourceTree after updating from...</td>\n",
       "      <td>SRCTREEWIN-13997</td>\n",
       "      <td>1929802</td>\n",
       "      <td>Bug</td>\n",
       "      <td>Short Term Backlog</td>\n",
       "      <td>SRCTREEWIN</td>\n",
       "      <td>Sourcetree for Windows</td>\n",
       "      <td>software</td>\n",
       "      <td>rgomis</td>\n",
       "      <td>NaN</td>\n",
       "      <td>...</td>\n",
       "      <td>NaN</td>\n",
       "      <td>2023-05-25 06:00:37.226</td>\n",
       "      <td>No</td>\n",
       "      <td>Other</td>\n",
       "      <td>NaN</td>\n",
       "      <td>698877135425(JIRAUSER5932073)</td>\n",
       "      <td>NaN</td>\n",
       "      <td>518400</td>\n",
       "      <td>True</td>\n",
       "      <td>Severity 1 - Critical</td>\n",
       "    </tr>\n",
       "    <tr>\n",
       "      <th>2</th>\n",
       "      <td>Unable to start SourceTree after updating from...</td>\n",
       "      <td>SRCTREEWIN-13997</td>\n",
       "      <td>1929802</td>\n",
       "      <td>Bug</td>\n",
       "      <td>Short Term Backlog</td>\n",
       "      <td>SRCTREEWIN</td>\n",
       "      <td>Sourcetree for Windows</td>\n",
       "      <td>software</td>\n",
       "      <td>rgomis</td>\n",
       "      <td>NaN</td>\n",
       "      <td>...</td>\n",
       "      <td>NaN</td>\n",
       "      <td>2023-05-25 06:00:37.226</td>\n",
       "      <td>No</td>\n",
       "      <td>Other</td>\n",
       "      <td>NaN</td>\n",
       "      <td>698877135425(JIRAUSER5932073)</td>\n",
       "      <td>NaN</td>\n",
       "      <td>518400</td>\n",
       "      <td>True</td>\n",
       "      <td>Severity 1 - Critical</td>\n",
       "    </tr>\n",
       "    <tr>\n",
       "      <th>3</th>\n",
       "      <td>Unable to start SourceTree after updating from...</td>\n",
       "      <td>SRCTREEWIN-13997</td>\n",
       "      <td>1929802</td>\n",
       "      <td>Bug</td>\n",
       "      <td>Short Term Backlog</td>\n",
       "      <td>SRCTREEWIN</td>\n",
       "      <td>Sourcetree for Windows</td>\n",
       "      <td>software</td>\n",
       "      <td>rgomis</td>\n",
       "      <td>NaN</td>\n",
       "      <td>...</td>\n",
       "      <td>NaN</td>\n",
       "      <td>2023-05-25 06:00:37.226</td>\n",
       "      <td>No</td>\n",
       "      <td>Other</td>\n",
       "      <td>NaN</td>\n",
       "      <td>698877135425(JIRAUSER5932073)</td>\n",
       "      <td>NaN</td>\n",
       "      <td>518400</td>\n",
       "      <td>True</td>\n",
       "      <td>Severity 1 - Critical</td>\n",
       "    </tr>\n",
       "    <tr>\n",
       "      <th>4</th>\n",
       "      <td>Unable to start SourceTree after updating from...</td>\n",
       "      <td>SRCTREEWIN-13997</td>\n",
       "      <td>1929802</td>\n",
       "      <td>Bug</td>\n",
       "      <td>Short Term Backlog</td>\n",
       "      <td>SRCTREEWIN</td>\n",
       "      <td>Sourcetree for Windows</td>\n",
       "      <td>software</td>\n",
       "      <td>rgomis</td>\n",
       "      <td>NaN</td>\n",
       "      <td>...</td>\n",
       "      <td>NaN</td>\n",
       "      <td>2023-05-25 06:00:37.226</td>\n",
       "      <td>No</td>\n",
       "      <td>Other</td>\n",
       "      <td>NaN</td>\n",
       "      <td>698877135425(JIRAUSER5932073)</td>\n",
       "      <td>NaN</td>\n",
       "      <td>518400</td>\n",
       "      <td>True</td>\n",
       "      <td>Severity 1 - Critical</td>\n",
       "    </tr>\n",
       "  </tbody>\n",
       "</table>\n",
       "<p>5 rows × 40 columns</p>\n",
       "</div>"
      ]
     },
     "execution_count": 15,
     "metadata": {},
     "output_type": "execute_result"
    }
   ],
   "execution_count": 15
  },
  {
   "metadata": {
    "ExecuteTime": {
     "end_time": "2024-09-26T17:22:37.012007Z",
     "start_time": "2024-09-26T17:22:37.002502Z"
    }
   },
   "cell_type": "code",
   "source": [
    "sanitized = df[df['Created'] < df['Updated']]\n",
    "sanitized = sanitized[sanitized['Resolved'].notna()]\n",
    "sanitized = sanitized[sanitized['Created'] < sanitized['Resolved']]\n",
    "print(f\"Before Duplicates: {sanitized['Issue id'].count()}\")\n",
    "# sanitized.drop_duplicates(subset=['Created', 'Resolved'], inplace=True)\n",
    "print(f\"After Duplicates: {sanitized['Issue id'].count()}\")"
   ],
   "id": "c4e958e2f08af2b2",
   "outputs": [
    {
     "name": "stdout",
     "output_type": "stream",
     "text": [
      "Before Duplicates: 6909\n",
      "After Duplicates: 6909\n"
     ]
    }
   ],
   "execution_count": 51
  },
  {
   "metadata": {
    "ExecuteTime": {
     "end_time": "2024-09-26T17:22:40.790246Z",
     "start_time": "2024-09-26T17:22:40.784960Z"
    }
   },
   "cell_type": "code",
   "source": "sanitized['Created'].describe()",
   "id": "8b8352f2e542eff6",
   "outputs": [
    {
     "data": {
      "text/plain": [
       "count                             6909\n",
       "mean     2020-08-15 15:48:23.829787392\n",
       "min                2013-12-16 07:42:00\n",
       "25%                2020-01-13 06:55:00\n",
       "50%                2020-02-02 15:38:00\n",
       "75%                2021-02-22 06:00:00\n",
       "max                2023-02-22 08:43:00\n",
       "Name: Created, dtype: object"
      ]
     },
     "execution_count": 52,
     "metadata": {},
     "output_type": "execute_result"
    }
   ],
   "execution_count": 52
  },
  {
   "metadata": {
    "ExecuteTime": {
     "end_time": "2024-09-26T17:22:43.738029Z",
     "start_time": "2024-09-26T17:22:43.547433Z"
    }
   },
   "cell_type": "code",
   "source": [
    "import matplotlib.pyplot as plt\n",
    "\n",
    "plt.title('Histogram of Created')\n",
    "plt.xlabel('Month')\n",
    "plt.hist(sanitized['Created'])\n",
    "plt.show()"
   ],
   "id": "7a571ac62b2c871b",
   "outputs": [
    {
     "data": {
      "text/plain": [
       "<Figure size 640x480 with 1 Axes>"
      ],
      "image/png": "[encoded data removed]"
     },
     "metadata": {},
     "output_type": "display_data"
    }
   ],
   "execution_count": 53
  },
  {
   "metadata": {
    "ExecuteTime": {
     "end_time": "2024-09-26T17:22:46.536916Z",
     "start_time": "2024-09-26T17:22:46.506553Z"
    }
   },
   "cell_type": "code",
   "source": [
    "from scipy.stats import zscore\n",
    "\n",
    "sanitized['diff'] = (sanitized['Created'] - sanitized['Created'].min()).dt.days\n",
    "sanitized['zscore'] = zscore(sanitized['diff'])\n",
    "sanitized = sanitized[abs(sanitized['zscore']) < 3]\n",
    "\n",
    "sanitized.describe()"
   ],
   "id": "1655c0fde775ddb3",
   "outputs": [
    {
     "data": {
      "text/plain": [
       "           Issue id  Project description              Created  \\\n",
       "count  6.860000e+03                  0.0                 6860   \n",
       "mean   1.588660e+06                  NaN  2020-09-02 01:07:18   \n",
       "min    1.185767e+06                  NaN  2019-06-06 10:50:00   \n",
       "25%    1.467035e+06                  NaN  2020-01-13 07:31:00   \n",
       "50%    1.478978e+06                  NaN  2020-02-03 13:21:00   \n",
       "75%    1.720497e+06                  NaN  2021-02-22 12:31:30   \n",
       "max    1.918662e+06                  NaN  2023-02-22 08:43:00   \n",
       "std    1.667076e+05                  NaN                  NaN   \n",
       "\n",
       "                             Updated                    Last Viewed  \\\n",
       "count                           6860                           6860   \n",
       "mean   2021-06-03 04:16:09.857142528  2023-05-31 08:15:00.043731712   \n",
       "min              2020-10-30 11:00:00            2023-05-31 07:54:00   \n",
       "25%              2020-11-10 15:31:15            2023-05-31 08:04:00   \n",
       "50%              2021-01-22 10:31:00            2023-05-31 08:15:00   \n",
       "75%              2021-06-28 00:44:00            2023-05-31 08:26:00   \n",
       "max              2023-05-30 07:44:00            2023-05-31 08:36:00   \n",
       "std                              NaN                            NaN   \n",
       "\n",
       "                            Resolved  Fix Version/s  Due Date        Votes  \\\n",
       "count                           6860     490.000000       0.0  6860.000000   \n",
       "mean   2021-05-18 05:14:38.571428608    1574.000000       NaN    12.385714   \n",
       "min              2020-10-30 11:00:00     348.000000       NaN     1.000000   \n",
       "25%              2020-11-10 15:17:00     348.000000       NaN     1.000000   \n",
       "50%              2021-01-15 10:49:30     348.500000       NaN     3.000000   \n",
       "75%              2021-06-17 10:19:00    3413.000000       NaN     7.000000   \n",
       "max              2023-05-29 07:29:00    3413.000000       NaN   513.000000   \n",
       "std                              NaN    1502.867462       NaN    51.742895   \n",
       "\n",
       "                ss  Unnamed: 30 Custom field (Date of First Response)  \\\n",
       "count  6860.000000          0.0                                  6713   \n",
       "mean     55.642857          NaN         2020-11-20 19:52:41.316948992   \n",
       "min       0.000000          NaN            2019-07-12 18:16:19.642000   \n",
       "25%      20.000000          NaN         2020-01-17 20:50:09.396999936   \n",
       "50%      30.000000          NaN         2020-11-17 10:58:31.337999872   \n",
       "75%      60.000000          NaN            2021-03-04 19:37:46.632000   \n",
       "max     850.000000          NaN            2023-03-07 08:55:45.792000   \n",
       "std      93.297519          NaN                                   NaN   \n",
       "\n",
       "       Custom field (Last Update On)  Custom field (Last commented)  \\\n",
       "count                            0.0                   6.860000e+03   \n",
       "mean                             NaN                   6.470044e+07   \n",
       "min                              NaN                   1.728000e+05   \n",
       "25%                              NaN                   6.151680e+07   \n",
       "50%                              NaN                   7.473600e+07   \n",
       "75%                              NaN                   8.043840e+07   \n",
       "max                              NaN                   1.148256e+08   \n",
       "std                              NaN                   2.625376e+07   \n",
       "\n",
       "              diff       zscore  \n",
       "count  6860.000000  6860.000000  \n",
       "mean   2451.335714     0.043357  \n",
       "min    1998.000000    -1.087219  \n",
       "25%    2218.750000    -0.536689  \n",
       "50%    2240.000000    -0.483694  \n",
       "75%    2624.500000     0.475213  \n",
       "max    3355.000000     2.297010  \n",
       "std     345.443923     0.861504  "
      ],
      "text/html": [
       "<div>\n",
       "<style scoped>\n",
       "    .dataframe tbody tr th:only-of-type {\n",
       "        vertical-align: middle;\n",
       "    }\n",
       "\n",
       "    .dataframe tbody tr th {\n",
       "        vertical-align: top;\n",
       "    }\n",
       "\n",
       "    .dataframe thead th {\n",
       "        text-align: right;\n",
       "    }\n",
       "</style>\n",
       "<table border=\"1\" class=\"dataframe\">\n",
       "  <thead>\n",
       "    <tr style=\"text-align: right;\">\n",
       "      <th></th>\n",
       "      <th>Issue id</th>\n",
       "      <th>Project description</th>\n",
       "      <th>Created</th>\n",
       "      <th>Updated</th>\n",
       "      <th>Last Viewed</th>\n",
       "      <th>Resolved</th>\n",
       "      <th>Fix Version/s</th>\n",
       "      <th>Due Date</th>\n",
       "      <th>Votes</th>\n",
       "      <th>ss</th>\n",
       "      <th>Unnamed: 30</th>\n",
       "      <th>Custom field (Date of First Response)</th>\n",
       "      <th>Custom field (Last Update On)</th>\n",
       "      <th>Custom field (Last commented)</th>\n",
       "      <th>diff</th>\n",
       "      <th>zscore</th>\n",
       "    </tr>\n",
       "  </thead>\n",
       "  <tbody>\n",
       "    <tr>\n",
       "      <th>count</th>\n",
       "      <td>6.860000e+03</td>\n",
       "      <td>0.0</td>\n",
       "      <td>6860</td>\n",
       "      <td>6860</td>\n",
       "      <td>6860</td>\n",
       "      <td>6860</td>\n",
       "      <td>490.000000</td>\n",
       "      <td>0.0</td>\n",
       "      <td>6860.000000</td>\n",
       "      <td>6860.000000</td>\n",
       "      <td>0.0</td>\n",
       "      <td>6713</td>\n",
       "      <td>0.0</td>\n",
       "      <td>6.860000e+03</td>\n",
       "      <td>6860.000000</td>\n",
       "      <td>6860.000000</td>\n",
       "    </tr>\n",
       "    <tr>\n",
       "      <th>mean</th>\n",
       "      <td>1.588660e+06</td>\n",
       "      <td>NaN</td>\n",
       "      <td>2020-09-02 01:07:18</td>\n",
       "      <td>2021-06-03 04:16:09.857142528</td>\n",
       "      <td>2023-05-31 08:15:00.043731712</td>\n",
       "      <td>2021-05-18 05:14:38.571428608</td>\n",
       "      <td>1574.000000</td>\n",
       "      <td>NaN</td>\n",
       "      <td>12.385714</td>\n",
       "      <td>55.642857</td>\n",
       "      <td>NaN</td>\n",
       "      <td>2020-11-20 19:52:41.316948992</td>\n",
       "      <td>NaN</td>\n",
       "      <td>6.470044e+07</td>\n",
       "      <td>2451.335714</td>\n",
       "      <td>0.043357</td>\n",
       "    </tr>\n",
       "    <tr>\n",
       "      <th>min</th>\n",
       "      <td>1.185767e+06</td>\n",
       "      <td>NaN</td>\n",
       "      <td>2019-06-06 10:50:00</td>\n",
       "      <td>2020-10-30 11:00:00</td>\n",
       "      <td>2023-05-31 07:54:00</td>\n",
       "      <td>2020-10-30 11:00:00</td>\n",
       "      <td>348.000000</td>\n",
       "      <td>NaN</td>\n",
       "      <td>1.000000</td>\n",
       "      <td>0.000000</td>\n",
       "      <td>NaN</td>\n",
       "      <td>2019-07-12 18:16:19.642000</td>\n",
       "      <td>NaN</td>\n",
       "      <td>1.728000e+05</td>\n",
       "      <td>1998.000000</td>\n",
       "      <td>-1.087219</td>\n",
       "    </tr>\n",
       "    <tr>\n",
       "      <th>25%</th>\n",
       "      <td>1.467035e+06</td>\n",
       "      <td>NaN</td>\n",
       "      <td>2020-01-13 07:31:00</td>\n",
       "      <td>2020-11-10 15:31:15</td>\n",
       "      <td>2023-05-31 08:04:00</td>\n",
       "      <td>2020-11-10 15:17:00</td>\n",
       "      <td>348.000000</td>\n",
       "      <td>NaN</td>\n",
       "      <td>1.000000</td>\n",
       "      <td>20.000000</td>\n",
       "      <td>NaN</td>\n",
       "      <td>2020-01-17 20:50:09.396999936</td>\n",
       "      <td>NaN</td>\n",
       "      <td>6.151680e+07</td>\n",
       "      <td>2218.750000</td>\n",
       "      <td>-0.536689</td>\n",
       "    </tr>\n",
       "    <tr>\n",
       "      <th>50%</th>\n",
       "      <td>1.478978e+06</td>\n",
       "      <td>NaN</td>\n",
       "      <td>2020-02-03 13:21:00</td>\n",
       "      <td>2021-01-22 10:31:00</td>\n",
       "      <td>2023-05-31 08:15:00</td>\n",
       "      <td>2021-01-15 10:49:30</td>\n",
       "      <td>348.500000</td>\n",
       "      <td>NaN</td>\n",
       "      <td>3.000000</td>\n",
       "      <td>30.000000</td>\n",
       "      <td>NaN</td>\n",
       "      <td>2020-11-17 10:58:31.337999872</td>\n",
       "      <td>NaN</td>\n",
       "      <td>7.473600e+07</td>\n",
       "      <td>2240.000000</td>\n",
       "      <td>-0.483694</td>\n",
       "    </tr>\n",
       "    <tr>\n",
       "      <th>75%</th>\n",
       "      <td>1.720497e+06</td>\n",
       "      <td>NaN</td>\n",
       "      <td>2021-02-22 12:31:30</td>\n",
       "      <td>2021-06-28 00:44:00</td>\n",
       "      <td>2023-05-31 08:26:00</td>\n",
       "      <td>2021-06-17 10:19:00</td>\n",
       "      <td>3413.000000</td>\n",
       "      <td>NaN</td>\n",
       "      <td>7.000000</td>\n",
       "      <td>60.000000</td>\n",
       "      <td>NaN</td>\n",
       "      <td>2021-03-04 19:37:46.632000</td>\n",
       "      <td>NaN</td>\n",
       "      <td>8.043840e+07</td>\n",
       "      <td>2624.500000</td>\n",
       "      <td>0.475213</td>\n",
       "    </tr>\n",
       "    <tr>\n",
       "      <th>max</th>\n",
       "      <td>1.918662e+06</td>\n",
       "      <td>NaN</td>\n",
       "      <td>2023-02-22 08:43:00</td>\n",
       "      <td>2023-05-30 07:44:00</td>\n",
       "      <td>2023-05-31 08:36:00</td>\n",
       "      <td>2023-05-29 07:29:00</td>\n",
       "      <td>3413.000000</td>\n",
       "      <td>NaN</td>\n",
       "      <td>513.000000</td>\n",
       "      <td>850.000000</td>\n",
       "      <td>NaN</td>\n",
       "      <td>2023-03-07 08:55:45.792000</td>\n",
       "      <td>NaN</td>\n",
       "      <td>1.148256e+08</td>\n",
       "      <td>3355.000000</td>\n",
       "      <td>2.297010</td>\n",
       "    </tr>\n",
       "    <tr>\n",
       "      <th>std</th>\n",
       "      <td>1.667076e+05</td>\n",
       "      <td>NaN</td>\n",
       "      <td>NaN</td>\n",
       "      <td>NaN</td>\n",
       "      <td>NaN</td>\n",
       "      <td>NaN</td>\n",
       "      <td>1502.867462</td>\n",
       "      <td>NaN</td>\n",
       "      <td>51.742895</td>\n",
       "      <td>93.297519</td>\n",
       "      <td>NaN</td>\n",
       "      <td>NaN</td>\n",
       "      <td>NaN</td>\n",
       "      <td>2.625376e+07</td>\n",
       "      <td>345.443923</td>\n",
       "      <td>0.861504</td>\n",
       "    </tr>\n",
       "  </tbody>\n",
       "</table>\n",
       "</div>"
      ]
     },
     "execution_count": 54,
     "metadata": {},
     "output_type": "execute_result"
    }
   ],
   "execution_count": 54
  },
  {
   "metadata": {
    "ExecuteTime": {
     "end_time": "2024-09-26T17:22:49.267730Z",
     "start_time": "2024-09-26T17:22:49.163244Z"
    }
   },
   "cell_type": "code",
   "source": [
    "plt.title('Histogram of Created')\n",
    "plt.xlabel('Month')\n",
    "plt.hist(sanitized['Created'])\n",
    "plt.show()"
   ],
   "id": "7394d049c6f5b1aa",
   "outputs": [
    {
     "data": {
      "text/plain": [
       "<Figure size 640x480 with 1 Axes>"
      ],
      "image/png": "[encoded data removed]"
     },
     "metadata": {},
     "output_type": "display_data"
    }
   ],
   "execution_count": 55
  },
  {
   "metadata": {
    "ExecuteTime": {
     "end_time": "2024-09-26T17:22:54.409759Z",
     "start_time": "2024-09-26T17:22:54.377761Z"
    }
   },
   "cell_type": "code",
   "source": [
    "sanitized['service_time'] = sanitized['Resolved'] - sanitized['Created']\n",
    "sanitized.describe()"
   ],
   "id": "3e7f6a30825adfc2",
   "outputs": [
    {
     "data": {
      "text/plain": [
       "           Issue id  Project description              Created  \\\n",
       "count  6.860000e+03                  0.0                 6860   \n",
       "mean   1.588660e+06                  NaN  2020-09-02 01:07:18   \n",
       "min    1.185767e+06                  NaN  2019-06-06 10:50:00   \n",
       "25%    1.467035e+06                  NaN  2020-01-13 07:31:00   \n",
       "50%    1.478978e+06                  NaN  2020-02-03 13:21:00   \n",
       "75%    1.720497e+06                  NaN  2021-02-22 12:31:30   \n",
       "max    1.918662e+06                  NaN  2023-02-22 08:43:00   \n",
       "std    1.667076e+05                  NaN                  NaN   \n",
       "\n",
       "                             Updated                    Last Viewed  \\\n",
       "count                           6860                           6860   \n",
       "mean   2021-06-03 04:16:09.857142528  2023-05-31 08:15:00.043731712   \n",
       "min              2020-10-30 11:00:00            2023-05-31 07:54:00   \n",
       "25%              2020-11-10 15:31:15            2023-05-31 08:04:00   \n",
       "50%              2021-01-22 10:31:00            2023-05-31 08:15:00   \n",
       "75%              2021-06-28 00:44:00            2023-05-31 08:26:00   \n",
       "max              2023-05-30 07:44:00            2023-05-31 08:36:00   \n",
       "std                              NaN                            NaN   \n",
       "\n",
       "                            Resolved  Fix Version/s  Due Date        Votes  \\\n",
       "count                           6860     490.000000       0.0  6860.000000   \n",
       "mean   2021-05-18 05:14:38.571428608    1574.000000       NaN    12.385714   \n",
       "min              2020-10-30 11:00:00     348.000000       NaN     1.000000   \n",
       "25%              2020-11-10 15:17:00     348.000000       NaN     1.000000   \n",
       "50%              2021-01-15 10:49:30     348.500000       NaN     3.000000   \n",
       "75%              2021-06-17 10:19:00    3413.000000       NaN     7.000000   \n",
       "max              2023-05-29 07:29:00    3413.000000       NaN   513.000000   \n",
       "std                              NaN    1502.867462       NaN    51.742895   \n",
       "\n",
       "                ss  Unnamed: 30 Custom field (Date of First Response)  \\\n",
       "count  6860.000000          0.0                                  6713   \n",
       "mean     55.642857          NaN         2020-11-20 19:52:41.316948992   \n",
       "min       0.000000          NaN            2019-07-12 18:16:19.642000   \n",
       "25%      20.000000          NaN         2020-01-17 20:50:09.396999936   \n",
       "50%      30.000000          NaN         2020-11-17 10:58:31.337999872   \n",
       "75%      60.000000          NaN            2021-03-04 19:37:46.632000   \n",
       "max     850.000000          NaN            2023-03-07 08:55:45.792000   \n",
       "std      93.297519          NaN                                   NaN   \n",
       "\n",
       "       Custom field (Last Update On)  Custom field (Last commented)  \\\n",
       "count                            0.0                   6.860000e+03   \n",
       "mean                             NaN                   6.470044e+07   \n",
       "min                              NaN                   1.728000e+05   \n",
       "25%                              NaN                   6.151680e+07   \n",
       "50%                              NaN                   7.473600e+07   \n",
       "75%                              NaN                   8.043840e+07   \n",
       "max                              NaN                   1.148256e+08   \n",
       "std                              NaN                   2.625376e+07   \n",
       "\n",
       "              diff       zscore                 service_time  \n",
       "count  6860.000000  6860.000000                         6860  \n",
       "mean   2451.335714     0.043357  258 days 04:07:20.571428572  \n",
       "min    1998.000000    -1.087219              0 days 01:03:00  \n",
       "25%    2218.750000    -0.536689            114 days 01:26:15  \n",
       "50%    2240.000000    -0.483694            295 days 12:39:30  \n",
       "75%    2624.500000     0.475213            323 days 04:09:00  \n",
       "max    3355.000000     2.297010           1288 days 14:26:00  \n",
       "std     345.443923     0.861504  179 days 09:43:06.670084756  "
      ],
      "text/html": [
       "<div>\n",
       "<style scoped>\n",
       "    .dataframe tbody tr th:only-of-type {\n",
       "        vertical-align: middle;\n",
       "    }\n",
       "\n",
       "    .dataframe tbody tr th {\n",
       "        vertical-align: top;\n",
       "    }\n",
       "\n",
       "    .dataframe thead th {\n",
       "        text-align: right;\n",
       "    }\n",
       "</style>\n",
       "<table border=\"1\" class=\"dataframe\">\n",
       "  <thead>\n",
       "    <tr style=\"text-align: right;\">\n",
       "      <th></th>\n",
       "      <th>Issue id</th>\n",
       "      <th>Project description</th>\n",
       "      <th>Created</th>\n",
       "      <th>Updated</th>\n",
       "      <th>Last Viewed</th>\n",
       "      <th>Resolved</th>\n",
       "      <th>Fix Version/s</th>\n",
       "      <th>Due Date</th>\n",
       "      <th>Votes</th>\n",
       "      <th>ss</th>\n",
       "      <th>Unnamed: 30</th>\n",
       "      <th>Custom field (Date of First Response)</th>\n",
       "      <th>Custom field (Last Update On)</th>\n",
       "      <th>Custom field (Last commented)</th>\n",
       "      <th>diff</th>\n",
       "      <th>zscore</th>\n",
       "      <th>service_time</th>\n",
       "    </tr>\n",
       "  </thead>\n",
       "  <tbody>\n",
       "    <tr>\n",
       "      <th>count</th>\n",
       "      <td>6.860000e+03</td>\n",
       "      <td>0.0</td>\n",
       "      <td>6860</td>\n",
       "      <td>6860</td>\n",
       "      <td>6860</td>\n",
       "      <td>6860</td>\n",
       "      <td>490.000000</td>\n",
       "      <td>0.0</td>\n",
       "      <td>6860.000000</td>\n",
       "      <td>6860.000000</td>\n",
       "      <td>0.0</td>\n",
       "      <td>6713</td>\n",
       "      <td>0.0</td>\n",
       "      <td>6.860000e+03</td>\n",
       "      <td>6860.000000</td>\n",
       "      <td>6860.000000</td>\n",
       "      <td>6860</td>\n",
       "    </tr>\n",
       "    <tr>\n",
       "      <th>mean</th>\n",
       "      <td>1.588660e+06</td>\n",
       "      <td>NaN</td>\n",
       "      <td>2020-09-02 01:07:18</td>\n",
       "      <td>2021-06-03 04:16:09.857142528</td>\n",
       "      <td>2023-05-31 08:15:00.043731712</td>\n",
       "      <td>2021-05-18 05:14:38.571428608</td>\n",
       "      <td>1574.000000</td>\n",
       "      <td>NaN</td>\n",
       "      <td>12.385714</td>\n",
       "      <td>55.642857</td>\n",
       "      <td>NaN</td>\n",
       "      <td>2020-11-20 19:52:41.316948992</td>\n",
       "      <td>NaN</td>\n",
       "      <td>6.470044e+07</td>\n",
       "      <td>2451.335714</td>\n",
       "      <td>0.043357</td>\n",
       "      <td>258 days 04:07:20.571428572</td>\n",
       "    </tr>\n",
       "    <tr>\n",
       "      <th>min</th>\n",
       "      <td>1.185767e+06</td>\n",
       "      <td>NaN</td>\n",
       "      <td>2019-06-06 10:50:00</td>\n",
       "      <td>2020-10-30 11:00:00</td>\n",
       "      <td>2023-05-31 07:54:00</td>\n",
       "      <td>2020-10-30 11:00:00</td>\n",
       "      <td>348.000000</td>\n",
       "      <td>NaN</td>\n",
       "      <td>1.000000</td>\n",
       "      <td>0.000000</td>\n",
       "      <td>NaN</td>\n",
       "      <td>2019-07-12 18:16:19.642000</td>\n",
       "      <td>NaN</td>\n",
       "      <td>1.728000e+05</td>\n",
       "      <td>1998.000000</td>\n",
       "      <td>-1.087219</td>\n",
       "      <td>0 days 01:03:00</td>\n",
       "    </tr>\n",
       "    <tr>\n",
       "      <th>25%</th>\n",
       "      <td>1.467035e+06</td>\n",
       "      <td>NaN</td>\n",
       "      <td>2020-01-13 07:31:00</td>\n",
       "      <td>2020-11-10 15:31:15</td>\n",
       "      <td>2023-05-31 08:04:00</td>\n",
       "      <td>2020-11-10 15:17:00</td>\n",
       "      <td>348.000000</td>\n",
       "      <td>NaN</td>\n",
       "      <td>1.000000</td>\n",
       "      <td>20.000000</td>\n",
       "      <td>NaN</td>\n",
       "      <td>2020-01-17 20:50:09.396999936</td>\n",
       "      <td>NaN</td>\n",
       "      <td>6.151680e+07</td>\n",
       "      <td>2218.750000</td>\n",
       "      <td>-0.536689</td>\n",
       "      <td>114 days 01:26:15</td>\n",
       "    </tr>\n",
       "    <tr>\n",
       "      <th>50%</th>\n",
       "      <td>1.478978e+06</td>\n",
       "      <td>NaN</td>\n",
       "      <td>2020-02-03 13:21:00</td>\n",
       "      <td>2021-01-22 10:31:00</td>\n",
       "      <td>2023-05-31 08:15:00</td>\n",
       "      <td>2021-01-15 10:49:30</td>\n",
       "      <td>348.500000</td>\n",
       "      <td>NaN</td>\n",
       "      <td>3.000000</td>\n",
       "      <td>30.000000</td>\n",
       "      <td>NaN</td>\n",
       "      <td>2020-11-17 10:58:31.337999872</td>\n",
       "      <td>NaN</td>\n",
       "      <td>7.473600e+07</td>\n",
       "      <td>2240.000000</td>\n",
       "      <td>-0.483694</td>\n",
       "      <td>295 days 12:39:30</td>\n",
       "    </tr>\n",
       "    <tr>\n",
       "      <th>75%</th>\n",
       "      <td>1.720497e+06</td>\n",
       "      <td>NaN</td>\n",
       "      <td>2021-02-22 12:31:30</td>\n",
       "      <td>2021-06-28 00:44:00</td>\n",
       "      <td>2023-05-31 08:26:00</td>\n",
       "      <td>2021-06-17 10:19:00</td>\n",
       "      <td>3413.000000</td>\n",
       "      <td>NaN</td>\n",
       "      <td>7.000000</td>\n",
       "      <td>60.000000</td>\n",
       "      <td>NaN</td>\n",
       "      <td>2021-03-04 19:37:46.632000</td>\n",
       "      <td>NaN</td>\n",
       "      <td>8.043840e+07</td>\n",
       "      <td>2624.500000</td>\n",
       "      <td>0.475213</td>\n",
       "      <td>323 days 04:09:00</td>\n",
       "    </tr>\n",
       "    <tr>\n",
       "      <th>max</th>\n",
       "      <td>1.918662e+06</td>\n",
       "      <td>NaN</td>\n",
       "      <td>2023-02-22 08:43:00</td>\n",
       "      <td>2023-05-30 07:44:00</td>\n",
       "      <td>2023-05-31 08:36:00</td>\n",
       "      <td>2023-05-29 07:29:00</td>\n",
       "      <td>3413.000000</td>\n",
       "      <td>NaN</td>\n",
       "      <td>513.000000</td>\n",
       "      <td>850.000000</td>\n",
       "      <td>NaN</td>\n",
       "      <td>2023-03-07 08:55:45.792000</td>\n",
       "      <td>NaN</td>\n",
       "      <td>1.148256e+08</td>\n",
       "      <td>3355.000000</td>\n",
       "      <td>2.297010</td>\n",
       "      <td>1288 days 14:26:00</td>\n",
       "    </tr>\n",
       "    <tr>\n",
       "      <th>std</th>\n",
       "      <td>1.667076e+05</td>\n",
       "      <td>NaN</td>\n",
       "      <td>NaN</td>\n",
       "      <td>NaN</td>\n",
       "      <td>NaN</td>\n",
       "      <td>NaN</td>\n",
       "      <td>1502.867462</td>\n",
       "      <td>NaN</td>\n",
       "      <td>51.742895</td>\n",
       "      <td>93.297519</td>\n",
       "      <td>NaN</td>\n",
       "      <td>NaN</td>\n",
       "      <td>NaN</td>\n",
       "      <td>2.625376e+07</td>\n",
       "      <td>345.443923</td>\n",
       "      <td>0.861504</td>\n",
       "      <td>179 days 09:43:06.670084756</td>\n",
       "    </tr>\n",
       "  </tbody>\n",
       "</table>\n",
       "</div>"
      ]
     },
     "execution_count": 56,
     "metadata": {},
     "output_type": "execute_result"
    }
   ],
   "execution_count": 56
  },
  {
   "metadata": {
    "ExecuteTime": {
     "end_time": "2024-09-26T17:24:46.332362Z",
     "start_time": "2024-09-26T17:24:46.250864Z"
    }
   },
   "cell_type": "code",
   "source": [
    "plt.title('Histogram of Service Time')\n",
    "plt.xlabel('Days')\n",
    "plt.hist(sanitized['service_time'].dt.days)\n",
    "plt.show()"
   ],
   "id": "54ce7d396246f3a9",
   "outputs": [
    {
     "data": {
      "text/plain": [
       "<Figure size 640x480 with 1 Axes>"
      ],
      "image/png": "[encoded data removed]"
     },
     "metadata": {},
     "output_type": "display_data"
    }
   ],
   "execution_count": 59
  },
  {
   "metadata": {
    "ExecuteTime": {
     "end_time": "2024-09-26T17:25:44.140949Z",
     "start_time": "2024-09-26T17:25:44.133942Z"
    }
   },
   "cell_type": "code",
   "source": "sanitized = sanitized[abs(zscore(sanitized['service_time'].dt.days)) < 3]",
   "id": "c3eec3b5da6cf27e",
   "outputs": [],
   "execution_count": 60
  },
  {
   "metadata": {
    "ExecuteTime": {
     "end_time": "2024-09-26T17:26:48.727162Z",
     "start_time": "2024-09-26T17:26:48.649379Z"
    }
   },
   "cell_type": "code",
   "source": [
    "plt.title('Histogram of Service Time (Z-score)')\n",
    "plt.xlabel('Days')\n",
    "plt.hist(sanitized['service_time'].dt.days)\n",
    "plt.show()"
   ],
   "id": "f192787edd2a0696",
   "outputs": [
    {
     "data": {
      "text/plain": [
       "<Figure size 640x480 with 1 Axes>"
      ],
      "image/png": "[encoded data removed]"
     },
     "metadata": {},
     "output_type": "display_data"
    }
   ],
   "execution_count": 62
  },
  {
   "metadata": {
    "ExecuteTime": {
     "end_time": "2024-09-26T17:27:55.042326Z",
     "start_time": "2024-09-26T17:27:55.038702Z"
    }
   },
   "cell_type": "code",
   "source": "training_window = pd.DataFrame()",
   "id": "a42442a84dad430f",
   "outputs": [],
   "execution_count": 63
  },
  {
   "metadata": {
    "ExecuteTime": {
     "end_time": "2024-09-26T17:27:58.063680Z",
     "start_time": "2024-09-26T17:27:58.059456Z"
    }
   },
   "cell_type": "code",
   "source": [
    "training_window['Created'] = sanitized['Created']\n",
    "training_window['Resolved'] = sanitized['Resolved']\n",
    "training_window['Priority'] = sanitized['Priority']\n",
    "training_window['Service Time'] = sanitized['service_time']"
   ],
   "id": "3eb09c724b986696",
   "outputs": [],
   "execution_count": 64
  },
  {
   "metadata": {
    "ExecuteTime": {
     "end_time": "2024-09-26T17:28:34.959867Z",
     "start_time": "2024-09-26T17:28:34.955494Z"
    }
   },
   "cell_type": "code",
   "source": [
    "training_window.sort_values(by='Created', inplace=True)\n",
    "training_window['ia'] = training_window['Created'].diff().dt.total_seconds()"
   ],
   "id": "f9a2db53db23e89d",
   "outputs": [],
   "execution_count": 68
  },
  {
   "metadata": {
    "ExecuteTime": {
     "end_time": "2024-09-26T17:28:19.236315Z",
     "start_time": "2024-09-26T17:28:19.229337Z"
    }
   },
   "cell_type": "code",
   "source": "training_window['Created'].describe()",
   "id": "b1f4bff97dd2690e",
   "outputs": [
    {
     "data": {
      "text/plain": [
       "count                             6811\n",
       "mean     2020-09-04 06:01:25.467625728\n",
       "min                2019-06-06 10:50:00\n",
       "25%                2020-01-13 07:43:00\n",
       "50%                2020-02-04 11:04:00\n",
       "75%                2021-02-23 08:06:00\n",
       "max                2023-02-22 08:43:00\n",
       "Name: Created, dtype: object"
      ]
     },
     "execution_count": 67,
     "metadata": {},
     "output_type": "execute_result"
    }
   ],
   "execution_count": 67
  },
  {
   "metadata": {
    "ExecuteTime": {
     "end_time": "2024-09-26T17:28:36.726207Z",
     "start_time": "2024-09-26T17:28:36.722306Z"
    }
   },
   "cell_type": "code",
   "source": [
    "training_window['ia'] = training_window['ia'].fillna(0)\n",
    "training_window['ia'] = training_window['ia'] / 60"
   ],
   "id": "d29da0efdee2c4bf",
   "outputs": [],
   "execution_count": 69
  },
  {
   "metadata": {
    "ExecuteTime": {
     "end_time": "2024-09-26T17:28:38.741607Z",
     "start_time": "2024-09-26T17:28:38.735551Z"
    }
   },
   "cell_type": "code",
   "source": "training_window.head()",
   "id": "8733e7fc9d1a064",
   "outputs": [
    {
     "data": {
      "text/plain": [
       "                  Created            Resolved Priority Service Time   ia\n",
       "14160 2019-06-06 10:50:00 2021-01-15 10:50:00   Medium     589 days  0.0\n",
       "14131 2019-06-06 10:50:00 2021-01-15 10:50:00   Medium     589 days  0.0\n",
       "14130 2019-06-06 10:50:00 2021-01-15 10:50:00   Medium     589 days  0.0\n",
       "14129 2019-06-06 10:50:00 2021-01-15 10:50:00   Medium     589 days  0.0\n",
       "14128 2019-06-06 10:50:00 2021-01-15 10:50:00   Medium     589 days  0.0"
      ],
      "text/html": [
       "<div>\n",
       "<style scoped>\n",
       "    .dataframe tbody tr th:only-of-type {\n",
       "        vertical-align: middle;\n",
       "    }\n",
       "\n",
       "    .dataframe tbody tr th {\n",
       "        vertical-align: top;\n",
       "    }\n",
       "\n",
       "    .dataframe thead th {\n",
       "        text-align: right;\n",
       "    }\n",
       "</style>\n",
       "<table border=\"1\" class=\"dataframe\">\n",
       "  <thead>\n",
       "    <tr style=\"text-align: right;\">\n",
       "      <th></th>\n",
       "      <th>Created</th>\n",
       "      <th>Resolved</th>\n",
       "      <th>Priority</th>\n",
       "      <th>Service Time</th>\n",
       "      <th>ia</th>\n",
       "    </tr>\n",
       "  </thead>\n",
       "  <tbody>\n",
       "    <tr>\n",
       "      <th>14160</th>\n",
       "      <td>2019-06-06 10:50:00</td>\n",
       "      <td>2021-01-15 10:50:00</td>\n",
       "      <td>Medium</td>\n",
       "      <td>589 days</td>\n",
       "      <td>0.0</td>\n",
       "    </tr>\n",
       "    <tr>\n",
       "      <th>14131</th>\n",
       "      <td>2019-06-06 10:50:00</td>\n",
       "      <td>2021-01-15 10:50:00</td>\n",
       "      <td>Medium</td>\n",
       "      <td>589 days</td>\n",
       "      <td>0.0</td>\n",
       "    </tr>\n",
       "    <tr>\n",
       "      <th>14130</th>\n",
       "      <td>2019-06-06 10:50:00</td>\n",
       "      <td>2021-01-15 10:50:00</td>\n",
       "      <td>Medium</td>\n",
       "      <td>589 days</td>\n",
       "      <td>0.0</td>\n",
       "    </tr>\n",
       "    <tr>\n",
       "      <th>14129</th>\n",
       "      <td>2019-06-06 10:50:00</td>\n",
       "      <td>2021-01-15 10:50:00</td>\n",
       "      <td>Medium</td>\n",
       "      <td>589 days</td>\n",
       "      <td>0.0</td>\n",
       "    </tr>\n",
       "    <tr>\n",
       "      <th>14128</th>\n",
       "      <td>2019-06-06 10:50:00</td>\n",
       "      <td>2021-01-15 10:50:00</td>\n",
       "      <td>Medium</td>\n",
       "      <td>589 days</td>\n",
       "      <td>0.0</td>\n",
       "    </tr>\n",
       "  </tbody>\n",
       "</table>\n",
       "</div>"
      ]
     },
     "execution_count": 70,
     "metadata": {},
     "output_type": "execute_result"
    }
   ],
   "execution_count": 70
  },
  {
   "metadata": {
    "ExecuteTime": {
     "end_time": "2024-09-26T19:39:46.677161Z",
     "start_time": "2024-09-26T19:39:46.581888Z"
    }
   },
   "cell_type": "code",
   "source": [
    "ia_outliers = training_window[abs(zscore(training_window['ia'])) < 3]\n",
    "\n",
    "plt.title('Histogram of Time between Arrivals')\n",
    "plt.xlabel('Minutes')\n",
    "plt.plot(ia_outliers['ia'])\n",
    "plt.show()"
   ],
   "id": "242fbfce894a06db",
   "outputs": [
    {
     "data": {
      "text/plain": [
       "<Figure size 640x480 with 1 Axes>"
      ],
      "image/png": "[encoded data removed]"
     },
     "metadata": {},
     "output_type": "display_data"
    }
   ],
   "execution_count": 98
  },
  {
   "metadata": {
    "ExecuteTime": {
     "end_time": "2024-09-26T19:40:38.933990Z",
     "start_time": "2024-09-26T19:40:00.970732Z"
    }
   },
   "cell_type": "code",
   "source": [
    "from fitter import Fitter\n",
    "\n",
    "f = Fitter(ia_outliers['ia'])\n",
    "f.fit()\n",
    "# may take some time since by default, all distributions are tried,\n",
    "# but you call manually provide a smaller set of distributions\n",
    "f.summary()"
   ],
   "id": "654b95ffe2524731",
   "outputs": [
    {
     "data": {
      "text/plain": [
       "              sumsquare_error           aic           bic  kl_div  \\\n",
       "halflogistic         0.000001  27190.178792  27203.821962     inf   \n",
       "genexpon             0.000005  26881.373768  26915.481692     inf   \n",
       "expon                0.000005  27302.647869  27316.291039     inf   \n",
       "truncpareto          0.000005  27306.647139  27333.933478     inf   \n",
       "pareto               0.000005  27304.647317  27325.112071     inf   \n",
       "\n",
       "              ks_statistic  ks_pvalue  \n",
       "halflogistic      0.984511        0.0  \n",
       "genexpon          0.984454        0.0  \n",
       "expon             0.984511        0.0  \n",
       "truncpareto       0.984511        0.0  \n",
       "pareto            0.984511        0.0  "
      ],
      "text/html": [
       "<div>\n",
       "<style scoped>\n",
       "    .dataframe tbody tr th:only-of-type {\n",
       "        vertical-align: middle;\n",
       "    }\n",
       "\n",
       "    .dataframe tbody tr th {\n",
       "        vertical-align: top;\n",
       "    }\n",
       "\n",
       "    .dataframe thead th {\n",
       "        text-align: right;\n",
       "    }\n",
       "</style>\n",
       "<table border=\"1\" class=\"dataframe\">\n",
       "  <thead>\n",
       "    <tr style=\"text-align: right;\">\n",
       "      <th></th>\n",
       "      <th>sumsquare_error</th>\n",
       "      <th>aic</th>\n",
       "      <th>bic</th>\n",
       "      <th>kl_div</th>\n",
       "      <th>ks_statistic</th>\n",
       "      <th>ks_pvalue</th>\n",
       "    </tr>\n",
       "  </thead>\n",
       "  <tbody>\n",
       "    <tr>\n",
       "      <th>halflogistic</th>\n",
       "      <td>0.000001</td>\n",
       "      <td>27190.178792</td>\n",
       "      <td>27203.821962</td>\n",
       "      <td>inf</td>\n",
       "      <td>0.984511</td>\n",
       "      <td>0.0</td>\n",
       "    </tr>\n",
       "    <tr>\n",
       "      <th>genexpon</th>\n",
       "      <td>0.000005</td>\n",
       "      <td>26881.373768</td>\n",
       "      <td>26915.481692</td>\n",
       "      <td>inf</td>\n",
       "      <td>0.984454</td>\n",
       "      <td>0.0</td>\n",
       "    </tr>\n",
       "    <tr>\n",
       "      <th>expon</th>\n",
       "      <td>0.000005</td>\n",
       "      <td>27302.647869</td>\n",
       "      <td>27316.291039</td>\n",
       "      <td>inf</td>\n",
       "      <td>0.984511</td>\n",
       "      <td>0.0</td>\n",
       "    </tr>\n",
       "    <tr>\n",
       "      <th>truncpareto</th>\n",
       "      <td>0.000005</td>\n",
       "      <td>27306.647139</td>\n",
       "      <td>27333.933478</td>\n",
       "      <td>inf</td>\n",
       "      <td>0.984511</td>\n",
       "      <td>0.0</td>\n",
       "    </tr>\n",
       "    <tr>\n",
       "      <th>pareto</th>\n",
       "      <td>0.000005</td>\n",
       "      <td>27304.647317</td>\n",
       "      <td>27325.112071</td>\n",
       "      <td>inf</td>\n",
       "      <td>0.984511</td>\n",
       "      <td>0.0</td>\n",
       "    </tr>\n",
       "  </tbody>\n",
       "</table>\n",
       "</div>"
      ]
     },
     "execution_count": 99,
     "metadata": {},
     "output_type": "execute_result"
    },
    {
     "data": {
      "text/plain": [
       "<Figure size 640x480 with 1 Axes>"
      ],
      "image/png": "[encoded data removed]"
     },
     "metadata": {},
     "output_type": "display_data"
    }
   ],
   "execution_count": 99
  },
  {
   "metadata": {
    "ExecuteTime": {
     "end_time": "2024-09-26T17:34:07.396868Z",
     "start_time": "2024-09-26T17:34:07.392980Z"
    }
   },
   "cell_type": "code",
   "source": [
    "best_params_ia = f.get_best()\n",
    "print(best_params_ia)"
   ],
   "id": "271a47b29f65b38f",
   "outputs": [
    {
     "name": "stdout",
     "output_type": "stream",
     "text": [
      "{'halflogistic': {'loc': 0.0, 'scale': 47.291173845125044}}\n"
     ]
    }
   ],
   "execution_count": 75
  },
  {
   "metadata": {
    "ExecuteTime": {
     "end_time": "2024-09-26T19:43:38.307644Z",
     "start_time": "2024-09-26T19:43:38.299007Z"
    }
   },
   "cell_type": "code",
   "source": [
    "from scipy import stats\n",
    "\n",
    "ia = stats.halflogistic.rvs(**best_params_ia.get('halflogistic'), size=4_000)\n",
    "gen = pd.DataFrame()\n",
    "gen['ia'] = ia\n",
    "gen['ia'].describe()"
   ],
   "id": "e1c89beaf9e733fe",
   "outputs": [
    {
     "data": {
      "text/plain": [
       "count    4000.000000\n",
       "mean       62.977301\n",
       "std        53.340208\n",
       "min         0.011109\n",
       "25%        22.801520\n",
       "50%        49.550166\n",
       "75%        88.906964\n",
       "max       375.004986\n",
       "Name: ia, dtype: float64"
      ]
     },
     "execution_count": 102,
     "metadata": {},
     "output_type": "execute_result"
    }
   ],
   "execution_count": 102
  },
  {
   "metadata": {
    "ExecuteTime": {
     "end_time": "2024-09-26T17:37:40.546833Z",
     "start_time": "2024-09-26T17:37:39.533148Z"
    }
   },
   "cell_type": "code",
   "source": [
    "plt.title('Histogram of Time Between Arrivals')\n",
    "plt.xlabel('Minutes')\n",
    "plt.xlim(0, 250)\n",
    "plt.ylim(0, 35)\n",
    "plt.hist(gen['ta'], bins=1_000)\n",
    "plt.show()"
   ],
   "id": "1f368c82da8cb894",
   "outputs": [
    {
     "data": {
      "text/plain": [
       "<Figure size 640x480 with 1 Axes>"
      ],
      "image/png": "[encoded data removed]"
     },
     "metadata": {},
     "output_type": "display_data"
    }
   ],
   "execution_count": 81
  },
  {
   "metadata": {
    "ExecuteTime": {
     "end_time": "2024-09-26T19:44:31.430810Z",
     "start_time": "2024-09-26T19:43:44.154216Z"
    }
   },
   "cell_type": "code",
   "source": [
    "f = Fitter(gen['ia'])\n",
    "f.fit()\n",
    "# may take some time since by default, all distributions are tried,\n",
    "# but you call manually provide a smaller set of distributions\n",
    "f.summary()"
   ],
   "id": "9afcf1052d92c975",
   "outputs": [
    {
     "data": {
      "text/plain": [
       "              sumsquare_error          aic          bic  kl_div  ks_statistic  \\\n",
       "ncf                  0.000016  1488.759085  1520.229333     inf      0.019956   \n",
       "gengamma             0.000018  1511.985525  1537.161724     inf      0.011251   \n",
       "exponweib            0.000018  1513.563241  1538.739440     inf      0.011073   \n",
       "halflogistic         0.000020  1492.261834  1504.849934     inf      0.011565   \n",
       "burr                 0.000021  1477.483680  1502.659878     inf      0.020879   \n",
       "\n",
       "              ks_pvalue  \n",
       "ncf            0.081585  \n",
       "gengamma       0.687453  \n",
       "exponweib      0.706377  \n",
       "halflogistic   0.654056  \n",
       "burr           0.060309  "
      ],
      "text/html": [
       "<div>\n",
       "<style scoped>\n",
       "    .dataframe tbody tr th:only-of-type {\n",
       "        vertical-align: middle;\n",
       "    }\n",
       "\n",
       "    .dataframe tbody tr th {\n",
       "        vertical-align: top;\n",
       "    }\n",
       "\n",
       "    .dataframe thead th {\n",
       "        text-align: right;\n",
       "    }\n",
       "</style>\n",
       "<table border=\"1\" class=\"dataframe\">\n",
       "  <thead>\n",
       "    <tr style=\"text-align: right;\">\n",
       "      <th></th>\n",
       "      <th>sumsquare_error</th>\n",
       "      <th>aic</th>\n",
       "      <th>bic</th>\n",
       "      <th>kl_div</th>\n",
       "      <th>ks_statistic</th>\n",
       "      <th>ks_pvalue</th>\n",
       "    </tr>\n",
       "  </thead>\n",
       "  <tbody>\n",
       "    <tr>\n",
       "      <th>ncf</th>\n",
       "      <td>0.000016</td>\n",
       "      <td>1488.759085</td>\n",
       "      <td>1520.229333</td>\n",
       "      <td>inf</td>\n",
       "      <td>0.019956</td>\n",
       "      <td>0.081585</td>\n",
       "    </tr>\n",
       "    <tr>\n",
       "      <th>gengamma</th>\n",
       "      <td>0.000018</td>\n",
       "      <td>1511.985525</td>\n",
       "      <td>1537.161724</td>\n",
       "      <td>inf</td>\n",
       "      <td>0.011251</td>\n",
       "      <td>0.687453</td>\n",
       "    </tr>\n",
       "    <tr>\n",
       "      <th>exponweib</th>\n",
       "      <td>0.000018</td>\n",
       "      <td>1513.563241</td>\n",
       "      <td>1538.739440</td>\n",
       "      <td>inf</td>\n",
       "      <td>0.011073</td>\n",
       "      <td>0.706377</td>\n",
       "    </tr>\n",
       "    <tr>\n",
       "      <th>halflogistic</th>\n",
       "      <td>0.000020</td>\n",
       "      <td>1492.261834</td>\n",
       "      <td>1504.849934</td>\n",
       "      <td>inf</td>\n",
       "      <td>0.011565</td>\n",
       "      <td>0.654056</td>\n",
       "    </tr>\n",
       "    <tr>\n",
       "      <th>burr</th>\n",
       "      <td>0.000021</td>\n",
       "      <td>1477.483680</td>\n",
       "      <td>1502.659878</td>\n",
       "      <td>inf</td>\n",
       "      <td>0.020879</td>\n",
       "      <td>0.060309</td>\n",
       "    </tr>\n",
       "  </tbody>\n",
       "</table>\n",
       "</div>"
      ]
     },
     "execution_count": 103,
     "metadata": {},
     "output_type": "execute_result"
    },
    {
     "data": {
      "text/plain": [
       "<Figure size 640x480 with 1 Axes>"
      ],
      "image/png": "[encoded data removed]"
     },
     "metadata": {},
     "output_type": "display_data"
    }
   ],
   "execution_count": 103
  },
  {
   "metadata": {
    "ExecuteTime": {
     "end_time": "2024-09-26T19:46:08.374129Z",
     "start_time": "2024-09-26T19:46:08.367869Z"
    }
   },
   "cell_type": "code",
   "source": "ia_outliers = training_window[abs(zscore(training_window['Service Time'].dt.days)) < 3]",
   "id": "ff1e70f001e9b6f9",
   "outputs": [],
   "execution_count": 104
  },
  {
   "metadata": {
    "ExecuteTime": {
     "end_time": "2024-09-26T19:49:03.074768Z",
     "start_time": "2024-09-26T19:49:03.069287Z"
    }
   },
   "cell_type": "code",
   "source": "ia_outliers['Priority'].value_counts()",
   "id": "bd26fd6a8481a0eb",
   "outputs": [
    {
     "data": {
      "text/plain": [
       "Priority\n",
       "Low        6076\n",
       "High        294\n",
       "Highest     245\n",
       "Medium       98\n",
       "Name: count, dtype: int64"
      ]
     },
     "execution_count": 107,
     "metadata": {},
     "output_type": "execute_result"
    }
   ],
   "execution_count": 107
  },
  {
   "metadata": {
    "ExecuteTime": {
     "end_time": "2024-09-26T19:51:23.706594Z",
     "start_time": "2024-09-26T19:50:38.404394Z"
    }
   },
   "cell_type": "code",
   "source": [
    "f = Fitter(ia_outliers[ia_outliers['Priority'].isin(['Highest', 'High'])]['Service Time'].dt.days)\n",
    "f.fit()\n",
    "# may take some time since by default, all distributions are tried,\n",
    "# but you call manually provide a smaller set of distributions\n",
    "f.summary()"
   ],
   "id": "4fb469572c84f42a",
   "outputs": [
    {
     "data": {
      "text/plain": [
       "              sumsquare_error          aic          bic  kl_div  ks_statistic  \\\n",
       "jf_skew_t            0.001080  1625.827438  1642.986300     inf      0.153971   \n",
       "nct                  0.001080  1626.955081  1644.113943     inf      0.156135   \n",
       "invgamma             0.001080  1621.051903  1633.921050     inf      0.152589   \n",
       "invgauss             0.001084  1597.092723  1609.961870     inf      0.150093   \n",
       "norminvgauss         0.001084  1599.304046  1616.462909     inf      0.150422   \n",
       "\n",
       "                 ks_pvalue  \n",
       "jf_skew_t     1.266388e-11  \n",
       "nct           6.088701e-12  \n",
       "invgamma      2.010800e-11  \n",
       "invgauss      4.585584e-11  \n",
       "norminvgauss  4.116651e-11  "
      ],
      "text/html": [
       "<div>\n",
       "<style scoped>\n",
       "    .dataframe tbody tr th:only-of-type {\n",
       "        vertical-align: middle;\n",
       "    }\n",
       "\n",
       "    .dataframe tbody tr th {\n",
       "        vertical-align: top;\n",
       "    }\n",
       "\n",
       "    .dataframe thead th {\n",
       "        text-align: right;\n",
       "    }\n",
       "</style>\n",
       "<table border=\"1\" class=\"dataframe\">\n",
       "  <thead>\n",
       "    <tr style=\"text-align: right;\">\n",
       "      <th></th>\n",
       "      <th>sumsquare_error</th>\n",
       "      <th>aic</th>\n",
       "      <th>bic</th>\n",
       "      <th>kl_div</th>\n",
       "      <th>ks_statistic</th>\n",
       "      <th>ks_pvalue</th>\n",
       "    </tr>\n",
       "  </thead>\n",
       "  <tbody>\n",
       "    <tr>\n",
       "      <th>jf_skew_t</th>\n",
       "      <td>0.001080</td>\n",
       "      <td>1625.827438</td>\n",
       "      <td>1642.986300</td>\n",
       "      <td>inf</td>\n",
       "      <td>0.153971</td>\n",
       "      <td>1.266388e-11</td>\n",
       "    </tr>\n",
       "    <tr>\n",
       "      <th>nct</th>\n",
       "      <td>0.001080</td>\n",
       "      <td>1626.955081</td>\n",
       "      <td>1644.113943</td>\n",
       "      <td>inf</td>\n",
       "      <td>0.156135</td>\n",
       "      <td>6.088701e-12</td>\n",
       "    </tr>\n",
       "    <tr>\n",
       "      <th>invgamma</th>\n",
       "      <td>0.001080</td>\n",
       "      <td>1621.051903</td>\n",
       "      <td>1633.921050</td>\n",
       "      <td>inf</td>\n",
       "      <td>0.152589</td>\n",
       "      <td>2.010800e-11</td>\n",
       "    </tr>\n",
       "    <tr>\n",
       "      <th>invgauss</th>\n",
       "      <td>0.001084</td>\n",
       "      <td>1597.092723</td>\n",
       "      <td>1609.961870</td>\n",
       "      <td>inf</td>\n",
       "      <td>0.150093</td>\n",
       "      <td>4.585584e-11</td>\n",
       "    </tr>\n",
       "    <tr>\n",
       "      <th>norminvgauss</th>\n",
       "      <td>0.001084</td>\n",
       "      <td>1599.304046</td>\n",
       "      <td>1616.462909</td>\n",
       "      <td>inf</td>\n",
       "      <td>0.150422</td>\n",
       "      <td>4.116651e-11</td>\n",
       "    </tr>\n",
       "  </tbody>\n",
       "</table>\n",
       "</div>"
      ]
     },
     "execution_count": 110,
     "metadata": {},
     "output_type": "execute_result"
    },
    {
     "data": {
      "text/plain": [
       "<Figure size 640x480 with 1 Axes>"
      ],
      "image/png": "[encoded data removed]"
     },
     "metadata": {},
     "output_type": "display_data"
    }
   ],
   "execution_count": 110
  },
  {
   "metadata": {
    "ExecuteTime": {
     "end_time": "2024-09-26T17:46:52.430368Z",
     "start_time": "2024-09-26T17:46:52.426878Z"
    }
   },
   "cell_type": "code",
   "source": [
    "best_params_ta = f.get_best()\n",
    "print(best_params_ta)"
   ],
   "id": "b3f9f39b455da85b",
   "outputs": [
    {
     "name": "stdout",
     "output_type": "stream",
     "text": [
      "{'gennorm': {'beta': 0.35001800492775303, 'loc': 300.0, 'scale': 3.071132572061014}}\n"
     ]
    }
   ],
   "execution_count": 93
  },
  {
   "metadata": {
    "ExecuteTime": {
     "end_time": "2024-09-26T17:47:02.583227Z",
     "start_time": "2024-09-26T17:47:02.473685Z"
    }
   },
   "cell_type": "code",
   "source": [
    "gen = pd.DataFrame()\n",
    "ta = stats.gennorm.rvs(**best_params_ta.get('gennorm'), size=4_000)\n",
    "gen['ta'] = ta\n",
    "gen['ta'].describe()"
   ],
   "id": "97a13dd56d34eeab",
   "outputs": [
    {
     "data": {
      "text/plain": [
       "count    4000.000000\n",
       "mean      287.889229\n",
       "std       293.848408\n",
       "min     -6066.162971\n",
       "25%       254.210646\n",
       "50%       299.200550\n",
       "75%       336.260621\n",
       "max      4156.224640\n",
       "Name: ta, dtype: float64"
      ]
     },
     "execution_count": 94,
     "metadata": {},
     "output_type": "execute_result"
    }
   ],
   "execution_count": 94
  },
  {
   "metadata": {
    "ExecuteTime": {
     "end_time": "2024-09-26T17:48:19.067915Z",
     "start_time": "2024-09-26T17:48:18.103545Z"
    }
   },
   "cell_type": "code",
   "source": [
    "plt.title('Histogram of Service Time')\n",
    "plt.xlabel('Minutes')\n",
    "plt.xlim(0, 700)\n",
    "plt.ylim(0, 100)\n",
    "plt.hist(gen['ta'], bins=1_000)\n",
    "plt.show()"
   ],
   "id": "5dd867bdfd3ebf6a",
   "outputs": [
    {
     "data": {
      "text/plain": [
       "<Figure size 640x480 with 1 Axes>"
      ],
      "image/png": "[encoded data removed]"
     },
     "metadata": {},
     "output_type": "display_data"
    }
   ],
   "execution_count": 97
  }
 ],
 "metadata": {
  "kernelspec": {
   "display_name": "tp6",
   "language": "python",
   "name": "tp6"
  },
  "language_info": {
   "codemirror_mode": {
    "name": "ipython",
    "version": 2
   },
   "file_extension": ".py",
   "mimetype": "text/x-python",
   "name": "python",
   "nbconvert_exporter": "python",
   "pygments_lexer": "ipython2",
   "version": "2.7.6"
  }
 },
 "nbformat": 4,
 "nbformat_minor": 5
}
