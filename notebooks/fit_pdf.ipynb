{
 "cells": [
  {
   "metadata": {},
   "cell_type": "markdown",
   "source": "## Fit PDF\n",
   "id": "4e0f82457b8992fd"
  },
  {
   "metadata": {
    "ExecuteTime": {
     "end_time": "2024-09-17T21:39:53.511961Z",
     "start_time": "2024-09-17T21:39:51.919957Z"
    }
   },
   "cell_type": "code",
   "source": [
    "# load csv\n",
    "import pandas as pd\n",
    "\n",
    "df = pd.read_csv('../customer_support_tickets.csv')"
   ],
   "id": "b742717325950ddf",
   "outputs": [],
   "execution_count": 1
  },
  {
   "metadata": {
    "ExecuteTime": {
     "end_time": "2024-09-17T21:39:53.543961Z",
     "start_time": "2024-09-17T21:39:53.512962Z"
    }
   },
   "cell_type": "code",
   "source": [
    "# drop first response time Null/Nan and Time to resolution NaN/Null\n",
    "df.dropna(inplace=True)\n",
    "\n",
    "df['First Response Time'] = df['First Response Time'].apply(lambda x: x.replace(' ', 'T').strip())\n",
    "df['Time to Resolution'] = df['Time to Resolution'].apply(lambda x: x.replace(' ', 'T').strip())\n"
   ],
   "id": "36399366b3b65c84",
   "outputs": [],
   "execution_count": 2
  },
  {
   "metadata": {
    "ExecuteTime": {
     "end_time": "2024-09-17T21:39:53.559961Z",
     "start_time": "2024-09-17T21:39:53.544962Z"
    }
   },
   "cell_type": "code",
   "source": [
    "# convert to datetime\n",
    "df['First Response Time'] = pd.to_datetime(df['First Response Time'])\n",
    "df['Time to Resolution'] = pd.to_datetime(df['Time to Resolution'])"
   ],
   "id": "c5d16f4313e13ba",
   "outputs": [],
   "execution_count": 3
  },
  {
   "metadata": {
    "ExecuteTime": {
     "end_time": "2024-09-17T21:39:53.575961Z",
     "start_time": "2024-09-17T21:39:53.561961Z"
    }
   },
   "cell_type": "code",
   "source": [
    "# remove where 'First Response Time' is greater or equal than 'Time to Resolution'\n",
    "df = df[df['First Response Time'] < df['Time to Resolution']]"
   ],
   "id": "b52f0ff47fc2efc7",
   "outputs": [],
   "execution_count": 4
  },
  {
   "metadata": {
    "ExecuteTime": {
     "end_time": "2024-09-17T21:39:53.606961Z",
     "start_time": "2024-09-17T21:39:53.576962Z"
    }
   },
   "cell_type": "code",
   "source": "df.head()",
   "id": "2ab5ea91a588395a",
   "outputs": [
    {
     "data": {
      "text/plain": [
       "    Ticket ID        Customer Name             Customer Email  Customer Age  \\\n",
       "2           3  Christopher Robbins  gonzalestracy@example.com            48   \n",
       "4           5    Alexander Carroll    bradleymark@example.com            67   \n",
       "19         20    Jeffrey Robertson     jameslopez@example.com            39   \n",
       "28         29       Christine Wang    garciastacy@example.com            30   \n",
       "29         30        Austin George      shericase@example.net            67   \n",
       "\n",
       "   Customer Gender Product Purchased Date of Purchase           Ticket Type  \\\n",
       "2            Other          Dell XPS       2020-07-14       Technical issue   \n",
       "4           Female  Autodesk AutoCAD       2020-02-04       Billing inquiry   \n",
       "19          Female         Canon EOS       2021-03-08        Refund request   \n",
       "28           Other     Fitbit Charge       2020-06-10       Technical issue   \n",
       "29            Male              Xbox       2020-12-26  Cancellation request   \n",
       "\n",
       "            Ticket Subject                                 Ticket Description  \\\n",
       "2          Network problem  I'm facing a problem with my {product_purchase...   \n",
       "4                Data loss  I'm having an issue with the {product_purchase...   \n",
       "19            Software bug  I'm having an issue with the {product_purchase...   \n",
       "28  Product recommendation  I'm having an issue with the {product_purchase...   \n",
       "29    Cancellation request  I'm having an issue with the {product_purchase...   \n",
       "\n",
       "   Ticket Status                                    Resolution  \\\n",
       "2         Closed  Case maybe show recently my computer follow.   \n",
       "4         Closed                   West decision evidence bit.   \n",
       "19        Closed             Wish mouth build resource though.   \n",
       "28        Closed                       Soldier we such inside.   \n",
       "29        Closed      Firm sort voice above which site arrive.   \n",
       "\n",
       "   Ticket Priority Ticket Channel First Response Time  Time to Resolution  \\\n",
       "2              Low   Social media 2023-06-01 11:14:38 2023-06-01 18:05:38   \n",
       "4              Low          Email 2023-06-01 00:12:42 2023-06-01 19:53:42   \n",
       "19             Low           Chat 2023-06-01 00:46:04 2023-06-01 20:29:04   \n",
       "28        Critical          Phone 2023-05-31 23:17:17 2023-06-01 06:03:17   \n",
       "29          Medium          Phone 2023-06-01 00:54:17 2023-06-01 18:23:17   \n",
       "\n",
       "    Customer Satisfaction Rating  \n",
       "2                            3.0  \n",
       "4                            1.0  \n",
       "19                           5.0  \n",
       "28                           5.0  \n",
       "29                           1.0  "
      ],
      "text/html": [
       "<div>\n",
       "<style scoped>\n",
       "    .dataframe tbody tr th:only-of-type {\n",
       "        vertical-align: middle;\n",
       "    }\n",
       "\n",
       "    .dataframe tbody tr th {\n",
       "        vertical-align: top;\n",
       "    }\n",
       "\n",
       "    .dataframe thead th {\n",
       "        text-align: right;\n",
       "    }\n",
       "</style>\n",
       "<table border=\"1\" class=\"dataframe\">\n",
       "  <thead>\n",
       "    <tr style=\"text-align: right;\">\n",
       "      <th></th>\n",
       "      <th>Ticket ID</th>\n",
       "      <th>Customer Name</th>\n",
       "      <th>Customer Email</th>\n",
       "      <th>Customer Age</th>\n",
       "      <th>Customer Gender</th>\n",
       "      <th>Product Purchased</th>\n",
       "      <th>Date of Purchase</th>\n",
       "      <th>Ticket Type</th>\n",
       "      <th>Ticket Subject</th>\n",
       "      <th>Ticket Description</th>\n",
       "      <th>Ticket Status</th>\n",
       "      <th>Resolution</th>\n",
       "      <th>Ticket Priority</th>\n",
       "      <th>Ticket Channel</th>\n",
       "      <th>First Response Time</th>\n",
       "      <th>Time to Resolution</th>\n",
       "      <th>Customer Satisfaction Rating</th>\n",
       "    </tr>\n",
       "  </thead>\n",
       "  <tbody>\n",
       "    <tr>\n",
       "      <th>2</th>\n",
       "      <td>3</td>\n",
       "      <td>Christopher Robbins</td>\n",
       "      <td>gonzalestracy@example.com</td>\n",
       "      <td>48</td>\n",
       "      <td>Other</td>\n",
       "      <td>Dell XPS</td>\n",
       "      <td>2020-07-14</td>\n",
       "      <td>Technical issue</td>\n",
       "      <td>Network problem</td>\n",
       "      <td>I'm facing a problem with my {product_purchase...</td>\n",
       "      <td>Closed</td>\n",
       "      <td>Case maybe show recently my computer follow.</td>\n",
       "      <td>Low</td>\n",
       "      <td>Social media</td>\n",
       "      <td>2023-06-01 11:14:38</td>\n",
       "      <td>2023-06-01 18:05:38</td>\n",
       "      <td>3.0</td>\n",
       "    </tr>\n",
       "    <tr>\n",
       "      <th>4</th>\n",
       "      <td>5</td>\n",
       "      <td>Alexander Carroll</td>\n",
       "      <td>bradleymark@example.com</td>\n",
       "      <td>67</td>\n",
       "      <td>Female</td>\n",
       "      <td>Autodesk AutoCAD</td>\n",
       "      <td>2020-02-04</td>\n",
       "      <td>Billing inquiry</td>\n",
       "      <td>Data loss</td>\n",
       "      <td>I'm having an issue with the {product_purchase...</td>\n",
       "      <td>Closed</td>\n",
       "      <td>West decision evidence bit.</td>\n",
       "      <td>Low</td>\n",
       "      <td>Email</td>\n",
       "      <td>2023-06-01 00:12:42</td>\n",
       "      <td>2023-06-01 19:53:42</td>\n",
       "      <td>1.0</td>\n",
       "    </tr>\n",
       "    <tr>\n",
       "      <th>19</th>\n",
       "      <td>20</td>\n",
       "      <td>Jeffrey Robertson</td>\n",
       "      <td>jameslopez@example.com</td>\n",
       "      <td>39</td>\n",
       "      <td>Female</td>\n",
       "      <td>Canon EOS</td>\n",
       "      <td>2021-03-08</td>\n",
       "      <td>Refund request</td>\n",
       "      <td>Software bug</td>\n",
       "      <td>I'm having an issue with the {product_purchase...</td>\n",
       "      <td>Closed</td>\n",
       "      <td>Wish mouth build resource though.</td>\n",
       "      <td>Low</td>\n",
       "      <td>Chat</td>\n",
       "      <td>2023-06-01 00:46:04</td>\n",
       "      <td>2023-06-01 20:29:04</td>\n",
       "      <td>5.0</td>\n",
       "    </tr>\n",
       "    <tr>\n",
       "      <th>28</th>\n",
       "      <td>29</td>\n",
       "      <td>Christine Wang</td>\n",
       "      <td>garciastacy@example.com</td>\n",
       "      <td>30</td>\n",
       "      <td>Other</td>\n",
       "      <td>Fitbit Charge</td>\n",
       "      <td>2020-06-10</td>\n",
       "      <td>Technical issue</td>\n",
       "      <td>Product recommendation</td>\n",
       "      <td>I'm having an issue with the {product_purchase...</td>\n",
       "      <td>Closed</td>\n",
       "      <td>Soldier we such inside.</td>\n",
       "      <td>Critical</td>\n",
       "      <td>Phone</td>\n",
       "      <td>2023-05-31 23:17:17</td>\n",
       "      <td>2023-06-01 06:03:17</td>\n",
       "      <td>5.0</td>\n",
       "    </tr>\n",
       "    <tr>\n",
       "      <th>29</th>\n",
       "      <td>30</td>\n",
       "      <td>Austin George</td>\n",
       "      <td>shericase@example.net</td>\n",
       "      <td>67</td>\n",
       "      <td>Male</td>\n",
       "      <td>Xbox</td>\n",
       "      <td>2020-12-26</td>\n",
       "      <td>Cancellation request</td>\n",
       "      <td>Cancellation request</td>\n",
       "      <td>I'm having an issue with the {product_purchase...</td>\n",
       "      <td>Closed</td>\n",
       "      <td>Firm sort voice above which site arrive.</td>\n",
       "      <td>Medium</td>\n",
       "      <td>Phone</td>\n",
       "      <td>2023-06-01 00:54:17</td>\n",
       "      <td>2023-06-01 18:23:17</td>\n",
       "      <td>1.0</td>\n",
       "    </tr>\n",
       "  </tbody>\n",
       "</table>\n",
       "</div>"
      ]
     },
     "execution_count": 5,
     "metadata": {},
     "output_type": "execute_result"
    }
   ],
   "execution_count": 5
  },
  {
   "metadata": {
    "ExecuteTime": {
     "end_time": "2024-09-17T21:41:48.426872Z",
     "start_time": "2024-09-17T21:41:48.412871Z"
    }
   },
   "cell_type": "code",
   "source": [
    "data = pd.DataFrame()\n",
    "data['First Response Time'] = df['First Response Time']\n",
    "# we only care about the minutes\n",
    "data.sort_values(by='First Response Time', inplace=True)\n",
    "data['ia_minutes'] = data['First Response Time'].apply(lambda x: x.hour * 60 + x.minute)\n",
    "data['time_diff_minutes'] = data['First Response Time'].diff().dt.total_seconds()\n",
    "data['time_diff_minutes'] = data['time_diff_minutes'].fillna(0)\n",
    "data.head()"
   ],
   "id": "abc6bcfacf15813f",
   "outputs": [
    {
     "data": {
      "text/plain": [
       "    First Response Time  ia_minutes  time_diff_minutes\n",
       "395 2023-05-31 21:55:39        1315                0.0\n",
       "765 2023-05-31 22:06:18        1326              639.0\n",
       "128 2023-05-31 22:12:33        1332              375.0\n",
       "371 2023-05-31 22:20:05        1340              452.0\n",
       "418 2023-05-31 22:20:10        1340                5.0"
      ],
      "text/html": [
       "<div>\n",
       "<style scoped>\n",
       "    .dataframe tbody tr th:only-of-type {\n",
       "        vertical-align: middle;\n",
       "    }\n",
       "\n",
       "    .dataframe tbody tr th {\n",
       "        vertical-align: top;\n",
       "    }\n",
       "\n",
       "    .dataframe thead th {\n",
       "        text-align: right;\n",
       "    }\n",
       "</style>\n",
       "<table border=\"1\" class=\"dataframe\">\n",
       "  <thead>\n",
       "    <tr style=\"text-align: right;\">\n",
       "      <th></th>\n",
       "      <th>First Response Time</th>\n",
       "      <th>ia_minutes</th>\n",
       "      <th>time_diff_minutes</th>\n",
       "    </tr>\n",
       "  </thead>\n",
       "  <tbody>\n",
       "    <tr>\n",
       "      <th>395</th>\n",
       "      <td>2023-05-31 21:55:39</td>\n",
       "      <td>1315</td>\n",
       "      <td>0.0</td>\n",
       "    </tr>\n",
       "    <tr>\n",
       "      <th>765</th>\n",
       "      <td>2023-05-31 22:06:18</td>\n",
       "      <td>1326</td>\n",
       "      <td>639.0</td>\n",
       "    </tr>\n",
       "    <tr>\n",
       "      <th>128</th>\n",
       "      <td>2023-05-31 22:12:33</td>\n",
       "      <td>1332</td>\n",
       "      <td>375.0</td>\n",
       "    </tr>\n",
       "    <tr>\n",
       "      <th>371</th>\n",
       "      <td>2023-05-31 22:20:05</td>\n",
       "      <td>1340</td>\n",
       "      <td>452.0</td>\n",
       "    </tr>\n",
       "    <tr>\n",
       "      <th>418</th>\n",
       "      <td>2023-05-31 22:20:10</td>\n",
       "      <td>1340</td>\n",
       "      <td>5.0</td>\n",
       "    </tr>\n",
       "  </tbody>\n",
       "</table>\n",
       "</div>"
      ]
     },
     "execution_count": 23,
     "metadata": {},
     "output_type": "execute_result"
    }
   ],
   "execution_count": 23
  },
  {
   "metadata": {
    "ExecuteTime": {
     "end_time": "2024-09-17T21:42:07.946354Z",
     "start_time": "2024-09-17T21:42:07.932353Z"
    }
   },
   "cell_type": "code",
   "source": "data['time_diff_minutes'].describe()",
   "id": "bef17ceb52bcce8",
   "outputs": [
    {
     "data": {
      "text/plain": [
       "count    1402.000000\n",
       "mean       66.002140\n",
       "std       124.981892\n",
       "min         0.000000\n",
       "25%        14.000000\n",
       "50%        37.000000\n",
       "75%        79.000000\n",
       "max      3165.000000\n",
       "Name: time_diff_minutes, dtype: float64"
      ]
     },
     "execution_count": 24,
     "metadata": {},
     "output_type": "execute_result"
    }
   ],
   "execution_count": 24
  },
  {
   "metadata": {
    "ExecuteTime": {
     "end_time": "2024-09-17T21:42:56.337738Z",
     "start_time": "2024-09-17T21:42:24.341317Z"
    }
   },
   "cell_type": "code",
   "source": [
    "from fitter import Fitter\n",
    "\n",
    "f = Fitter(data['time_diff_minutes'])\n",
    "f.fit()\n",
    "# may take some time since by default, all distributions are tried,\n",
    "# but you call manually provide a smaller set of distributions\n",
    "f.summary()"
   ],
   "id": "84e56c3191ac12e1",
   "outputs": [
    {
     "data": {
      "text/plain": [
       "               sumsquare_error          aic          bic  kl_div  \\\n",
       "truncpareto       6.438139e-07  2731.328914  2752.311534     inf   \n",
       "pareto            6.441166e-07  2729.334209  2745.071174     inf   \n",
       "wald              1.028937e-06  3999.969041  4010.460352     inf   \n",
       "powerlognorm      1.080702e-06  2922.554934  2943.537554     inf   \n",
       "genhyperbolic     1.712702e-06  7568.936964  7595.165239     inf   \n",
       "\n",
       "               ks_statistic  ks_pvalue  \n",
       "truncpareto        0.019438   0.657161  \n",
       "pareto             0.019432   0.657506  \n",
       "wald               0.051988   0.000985  \n",
       "powerlognorm       0.023271   0.427065  \n",
       "genhyperbolic      0.049645   0.001924  "
      ],
      "text/html": [
       "<div>\n",
       "<style scoped>\n",
       "    .dataframe tbody tr th:only-of-type {\n",
       "        vertical-align: middle;\n",
       "    }\n",
       "\n",
       "    .dataframe tbody tr th {\n",
       "        vertical-align: top;\n",
       "    }\n",
       "\n",
       "    .dataframe thead th {\n",
       "        text-align: right;\n",
       "    }\n",
       "</style>\n",
       "<table border=\"1\" class=\"dataframe\">\n",
       "  <thead>\n",
       "    <tr style=\"text-align: right;\">\n",
       "      <th></th>\n",
       "      <th>sumsquare_error</th>\n",
       "      <th>aic</th>\n",
       "      <th>bic</th>\n",
       "      <th>kl_div</th>\n",
       "      <th>ks_statistic</th>\n",
       "      <th>ks_pvalue</th>\n",
       "    </tr>\n",
       "  </thead>\n",
       "  <tbody>\n",
       "    <tr>\n",
       "      <th>truncpareto</th>\n",
       "      <td>6.438139e-07</td>\n",
       "      <td>2731.328914</td>\n",
       "      <td>2752.311534</td>\n",
       "      <td>inf</td>\n",
       "      <td>0.019438</td>\n",
       "      <td>0.657161</td>\n",
       "    </tr>\n",
       "    <tr>\n",
       "      <th>pareto</th>\n",
       "      <td>6.441166e-07</td>\n",
       "      <td>2729.334209</td>\n",
       "      <td>2745.071174</td>\n",
       "      <td>inf</td>\n",
       "      <td>0.019432</td>\n",
       "      <td>0.657506</td>\n",
       "    </tr>\n",
       "    <tr>\n",
       "      <th>wald</th>\n",
       "      <td>1.028937e-06</td>\n",
       "      <td>3999.969041</td>\n",
       "      <td>4010.460352</td>\n",
       "      <td>inf</td>\n",
       "      <td>0.051988</td>\n",
       "      <td>0.000985</td>\n",
       "    </tr>\n",
       "    <tr>\n",
       "      <th>powerlognorm</th>\n",
       "      <td>1.080702e-06</td>\n",
       "      <td>2922.554934</td>\n",
       "      <td>2943.537554</td>\n",
       "      <td>inf</td>\n",
       "      <td>0.023271</td>\n",
       "      <td>0.427065</td>\n",
       "    </tr>\n",
       "    <tr>\n",
       "      <th>genhyperbolic</th>\n",
       "      <td>1.712702e-06</td>\n",
       "      <td>7568.936964</td>\n",
       "      <td>7595.165239</td>\n",
       "      <td>inf</td>\n",
       "      <td>0.049645</td>\n",
       "      <td>0.001924</td>\n",
       "    </tr>\n",
       "  </tbody>\n",
       "</table>\n",
       "</div>"
      ]
     },
     "execution_count": 25,
     "metadata": {},
     "output_type": "execute_result"
    },
    {
     "data": {
      "text/plain": [
       "<Figure size 640x480 with 1 Axes>"
      ],
      "image/png": "[encoded data removed]"
     },
     "metadata": {},
     "output_type": "display_data"
    }
   ],
   "execution_count": 25
  },
  {
   "metadata": {
    "ExecuteTime": {
     "end_time": "2024-09-17T21:43:06.402253Z",
     "start_time": "2024-09-17T21:43:06.396253Z"
    }
   },
   "cell_type": "code",
   "source": [
    "best_params_arrivals = f.get_best(method='sumsquare_error')\n",
    "print(best_params_arrivals)"
   ],
   "id": "7c48098a56a9b98b",
   "outputs": [
    {
     "name": "stdout",
     "output_type": "stream",
     "text": [
      "{'truncpareto': {'b': 3.4730237348159223, 'c': 20.79360641835896, 'loc': -159.90011790193023, 'scale': 159.9001179019302}}\n"
     ]
    }
   ],
   "execution_count": 26
  },
  {
   "metadata": {
    "ExecuteTime": {
     "end_time": "2024-09-17T21:43:17.556292Z",
     "start_time": "2024-09-17T21:43:17.542293Z"
    }
   },
   "cell_type": "code",
   "source": [
    "from scipy import stats\n",
    "\n",
    "ia = stats.truncpareto.rvs(**best_params_arrivals.get('truncpareto'), size=4_000)\n",
    "\n",
    "gen = pd.DataFrame()\n",
    "gen['ia'] = ia"
   ],
   "id": "d055940929f496d9",
   "outputs": [],
   "execution_count": 27
  },
  {
   "metadata": {
    "ExecuteTime": {
     "end_time": "2024-09-17T21:39:58.845279Z",
     "start_time": "2024-09-17T21:39:58.831283Z"
    }
   },
   "cell_type": "code",
   "source": "gen.head()",
   "id": "83ecb8c042ed73a3",
   "outputs": [
    {
     "data": {
      "text/plain": [
       "         ia\n",
       "0  1.188578\n",
       "1  2.005288\n",
       "2  1.739954\n",
       "3  0.048959\n",
       "4  1.707396"
      ],
      "text/html": [
       "<div>\n",
       "<style scoped>\n",
       "    .dataframe tbody tr th:only-of-type {\n",
       "        vertical-align: middle;\n",
       "    }\n",
       "\n",
       "    .dataframe tbody tr th {\n",
       "        vertical-align: top;\n",
       "    }\n",
       "\n",
       "    .dataframe thead th {\n",
       "        text-align: right;\n",
       "    }\n",
       "</style>\n",
       "<table border=\"1\" class=\"dataframe\">\n",
       "  <thead>\n",
       "    <tr style=\"text-align: right;\">\n",
       "      <th></th>\n",
       "      <th>ia</th>\n",
       "    </tr>\n",
       "  </thead>\n",
       "  <tbody>\n",
       "    <tr>\n",
       "      <th>0</th>\n",
       "      <td>1.188578</td>\n",
       "    </tr>\n",
       "    <tr>\n",
       "      <th>1</th>\n",
       "      <td>2.005288</td>\n",
       "    </tr>\n",
       "    <tr>\n",
       "      <th>2</th>\n",
       "      <td>1.739954</td>\n",
       "    </tr>\n",
       "    <tr>\n",
       "      <th>3</th>\n",
       "      <td>0.048959</td>\n",
       "    </tr>\n",
       "    <tr>\n",
       "      <th>4</th>\n",
       "      <td>1.707396</td>\n",
       "    </tr>\n",
       "  </tbody>\n",
       "</table>\n",
       "</div>"
      ]
     },
     "execution_count": 11,
     "metadata": {},
     "output_type": "execute_result"
    }
   ],
   "execution_count": 11
  },
  {
   "metadata": {
    "ExecuteTime": {
     "end_time": "2024-09-17T21:43:20.436293Z",
     "start_time": "2024-09-17T21:43:20.419294Z"
    }
   },
   "cell_type": "code",
   "source": "gen['ia'].describe()",
   "id": "e06d0827bd05c589",
   "outputs": [
    {
     "data": {
      "text/plain": [
       "count    4000.000000\n",
       "mean       67.184765\n",
       "std        97.612213\n",
       "min         0.015649\n",
       "25%        14.723132\n",
       "50%        36.245727\n",
       "75%        81.138452\n",
       "max      1520.114491\n",
       "Name: ia, dtype: float64"
      ]
     },
     "execution_count": 28,
     "metadata": {},
     "output_type": "execute_result"
    }
   ],
   "execution_count": 28
  },
  {
   "metadata": {
    "ExecuteTime": {
     "end_time": "2024-09-17T21:44:04.537599Z",
     "start_time": "2024-09-17T21:44:04.320600Z"
    }
   },
   "cell_type": "code",
   "source": [
    "import matplotlib.pyplot as plt\n",
    "\n",
    "plt.title('Arrivals')\n",
    "plt.xlabel('Minutes')\n",
    "plt.hist(gen['ia'], bins=200)\n",
    "plt.show()"
   ],
   "id": "c2f4948e6502be82",
   "outputs": [
    {
     "data": {
      "text/plain": [
       "<Figure size 640x480 with 1 Axes>"
      ],
      "image/png": "[encoded data removed]"
     },
     "metadata": {},
     "output_type": "display_data"
    }
   ],
   "execution_count": 29
  },
  {
   "metadata": {
    "ExecuteTime": {
     "end_time": "2024-09-17T21:45:18.905564Z",
     "start_time": "2024-09-17T21:45:18.891567Z"
    }
   },
   "cell_type": "code",
   "source": [
    "# same for resolution time\n",
    "data = pd.DataFrame()\n",
    "data['Time to Resolution'] = df['Time to Resolution']\n",
    "data['First Response Time'] = df['First Response Time']\n",
    "data['delta'] = data['Time to Resolution'] - data['First Response Time']\n",
    "data['ta_minutes'] = data['delta'].apply(lambda x: x.total_seconds() / 60)"
   ],
   "id": "7ac9e29cf1cded46",
   "outputs": [],
   "execution_count": 31
  },
  {
   "metadata": {
    "ExecuteTime": {
     "end_time": "2024-09-17T21:45:21.927566Z",
     "start_time": "2024-09-17T21:45:21.917567Z"
    }
   },
   "cell_type": "code",
   "source": "data['ta_minutes'].head()",
   "id": "945b35b95bd465bc",
   "outputs": [
    {
     "data": {
      "text/plain": [
       "2      411.0\n",
       "4     1181.0\n",
       "19    1183.0\n",
       "28     406.0\n",
       "29    1049.0\n",
       "Name: ta_minutes, dtype: float64"
      ]
     },
     "execution_count": 32,
     "metadata": {},
     "output_type": "execute_result"
    }
   ],
   "execution_count": 32
  },
  {
   "metadata": {
    "ExecuteTime": {
     "end_time": "2024-09-17T21:45:26.164565Z",
     "start_time": "2024-09-17T21:45:26.146566Z"
    }
   },
   "cell_type": "code",
   "source": "data['ta_minutes'].describe()",
   "id": "61dc74043ebd30d3",
   "outputs": [
    {
     "data": {
      "text/plain": [
       "count    1402.000000\n",
       "mean      455.324536\n",
       "std       335.597811\n",
       "min         1.000000\n",
       "25%       180.000000\n",
       "50%       382.500000\n",
       "75%       681.750000\n",
       "max      1408.000000\n",
       "Name: ta_minutes, dtype: float64"
      ]
     },
     "execution_count": 33,
     "metadata": {},
     "output_type": "execute_result"
    }
   ],
   "execution_count": 33
  },
  {
   "metadata": {
    "ExecuteTime": {
     "end_time": "2024-09-17T21:46:02.831837Z",
     "start_time": "2024-09-17T21:45:30.265566Z"
    }
   },
   "cell_type": "code",
   "source": [
    "f = Fitter(data['ta_minutes'])\n",
    "f.fit()\n",
    "f.summary()"
   ],
   "id": "24400023142f0a6",
   "outputs": [
    {
     "data": {
      "text/plain": [
       "            sumsquare_error          aic          bic  kl_div  ks_statistic  \\\n",
       "gausshyper         0.000003  1516.447518  1547.921449     inf      0.015985   \n",
       "genpareto          0.000004  1514.700057  1530.437022     inf      0.028109   \n",
       "beta               0.000004  1516.943784  1537.926405     inf      0.024999   \n",
       "halfnorm           0.000004  1523.322238  1533.813549     inf      0.028099   \n",
       "skewnorm           0.000004  1525.227381  1540.964346     inf      0.028174   \n",
       "\n",
       "            ks_pvalue  \n",
       "gausshyper   0.860431  \n",
       "genpareto    0.213883  \n",
       "beta         0.339338  \n",
       "halfnorm     0.214216  \n",
       "skewnorm     0.211693  "
      ],
      "text/html": [
       "<div>\n",
       "<style scoped>\n",
       "    .dataframe tbody tr th:only-of-type {\n",
       "        vertical-align: middle;\n",
       "    }\n",
       "\n",
       "    .dataframe tbody tr th {\n",
       "        vertical-align: top;\n",
       "    }\n",
       "\n",
       "    .dataframe thead th {\n",
       "        text-align: right;\n",
       "    }\n",
       "</style>\n",
       "<table border=\"1\" class=\"dataframe\">\n",
       "  <thead>\n",
       "    <tr style=\"text-align: right;\">\n",
       "      <th></th>\n",
       "      <th>sumsquare_error</th>\n",
       "      <th>aic</th>\n",
       "      <th>bic</th>\n",
       "      <th>kl_div</th>\n",
       "      <th>ks_statistic</th>\n",
       "      <th>ks_pvalue</th>\n",
       "    </tr>\n",
       "  </thead>\n",
       "  <tbody>\n",
       "    <tr>\n",
       "      <th>gausshyper</th>\n",
       "      <td>0.000003</td>\n",
       "      <td>1516.447518</td>\n",
       "      <td>1547.921449</td>\n",
       "      <td>inf</td>\n",
       "      <td>0.015985</td>\n",
       "      <td>0.860431</td>\n",
       "    </tr>\n",
       "    <tr>\n",
       "      <th>genpareto</th>\n",
       "      <td>0.000004</td>\n",
       "      <td>1514.700057</td>\n",
       "      <td>1530.437022</td>\n",
       "      <td>inf</td>\n",
       "      <td>0.028109</td>\n",
       "      <td>0.213883</td>\n",
       "    </tr>\n",
       "    <tr>\n",
       "      <th>beta</th>\n",
       "      <td>0.000004</td>\n",
       "      <td>1516.943784</td>\n",
       "      <td>1537.926405</td>\n",
       "      <td>inf</td>\n",
       "      <td>0.024999</td>\n",
       "      <td>0.339338</td>\n",
       "    </tr>\n",
       "    <tr>\n",
       "      <th>halfnorm</th>\n",
       "      <td>0.000004</td>\n",
       "      <td>1523.322238</td>\n",
       "      <td>1533.813549</td>\n",
       "      <td>inf</td>\n",
       "      <td>0.028099</td>\n",
       "      <td>0.214216</td>\n",
       "    </tr>\n",
       "    <tr>\n",
       "      <th>skewnorm</th>\n",
       "      <td>0.000004</td>\n",
       "      <td>1525.227381</td>\n",
       "      <td>1540.964346</td>\n",
       "      <td>inf</td>\n",
       "      <td>0.028174</td>\n",
       "      <td>0.211693</td>\n",
       "    </tr>\n",
       "  </tbody>\n",
       "</table>\n",
       "</div>"
      ]
     },
     "execution_count": 34,
     "metadata": {},
     "output_type": "execute_result"
    },
    {
     "data": {
      "text/plain": [
       "<Figure size 640x480 with 1 Axes>"
      ],
      "image/png": "[encoded data removed]"
     },
     "metadata": {},
     "output_type": "display_data"
    }
   ],
   "execution_count": 34
  },
  {
   "metadata": {
    "ExecuteTime": {
     "end_time": "2024-09-17T21:46:40.783592Z",
     "start_time": "2024-09-17T21:46:40.773591Z"
    }
   },
   "cell_type": "code",
   "source": [
    "# The best fit is the gausshyper distribution, but we can also try the argus distribution\n",
    "best_params_arrivals = f.get_best(method='sumsquare_error')\n",
    "print(best_params_arrivals)"
   ],
   "id": "2e6a7431869dc0d3",
   "outputs": [
    {
     "name": "stdout",
     "output_type": "stream",
     "text": [
      "{'gausshyper': {'a': 1.1056018226255544, 'b': 1.6205702068080348, 'c': 2.143556917168204, 'z': 0.8747466122834441, 'loc': 0.9255225356041091, 'scale': 1415.6772955915094}}\n"
     ]
    }
   ],
   "execution_count": 35
  },
  {
   "metadata": {
    "ExecuteTime": {
     "end_time": "2024-09-17T21:47:39.817825Z",
     "start_time": "2024-09-17T21:47:08.316795Z"
    }
   },
   "cell_type": "code",
   "source": [
    "ta = stats.gausshyper.rvs(**best_params_arrivals.get('gausshyper'), size=4_000)\n",
    "gen['ta'] = ta"
   ],
   "id": "21251218900047e",
   "outputs": [],
   "execution_count": 38
  },
  {
   "metadata": {
    "ExecuteTime": {
     "end_time": "2024-09-17T21:48:15.352135Z",
     "start_time": "2024-09-17T21:48:15.118533Z"
    }
   },
   "cell_type": "code",
   "source": [
    "plt.title('Time to Resolution')\n",
    "plt.xlabel('Minutes')\n",
    "plt.hist(gen['ta'], bins=200)\n",
    "plt.show()"
   ],
   "id": "764c954c25f3824b",
   "outputs": [
    {
     "data": {
      "text/plain": [
       "<Figure size 640x480 with 1 Axes>"
      ],
      "image/png": "[encoded data removed]"
     },
     "metadata": {},
     "output_type": "display_data"
    }
   ],
   "execution_count": 39
  },
  {
   "metadata": {},
   "cell_type": "code",
   "outputs": [],
   "execution_count": null,
   "source": "",
   "id": "9e57d524a4a2020a"
  }
 ],
 "metadata": {
  "kernelspec": {
   "display_name": "tp6",
   "language": "python",
   "name": "tp6"
  },
  "language_info": {
   "codemirror_mode": {
    "name": "ipython",
    "version": 2
   },
   "file_extension": ".py",
   "mimetype": "text/x-python",
   "name": "python",
   "nbconvert_exporter": "python",
   "pygments_lexer": "ipython2",
   "version": "2.7.6"
  }
 },
 "nbformat": 4,
 "nbformat_minor": 5
}
