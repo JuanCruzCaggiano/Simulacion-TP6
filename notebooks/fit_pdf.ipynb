{
 "cells": [
  {
   "metadata": {},
   "cell_type": "markdown",
   "source": "## Fit PDF\n",
   "id": "4e0f82457b8992fd"
  },
  {
   "metadata": {
    "ExecuteTime": {
     "end_time": "2024-09-16T21:33:04.284119Z",
     "start_time": "2024-09-16T21:33:01.921350Z"
    }
   },
   "cell_type": "code",
   "source": [
    "# load csv\n",
    "import pandas as pd\n",
    "\n",
    "df = pd.read_csv('../customer_support_tickets.csv')"
   ],
   "id": "b742717325950ddf",
   "outputs": [],
   "execution_count": 1
  },
  {
   "metadata": {
    "ExecuteTime": {
     "end_time": "2024-09-16T21:33:04.315755Z",
     "start_time": "2024-09-16T21:33:04.285120Z"
    }
   },
   "cell_type": "code",
   "source": [
    "# drop first response time Null/Nan and Time to resolution NaN/Null\n",
    "df.dropna(inplace=True)\n",
    "\n",
    "df['First Response Time'] = df['First Response Time'].apply(lambda x: x.replace(' ', 'T').strip())\n",
    "df['Time to Resolution'] = df['First Response Time'].apply(lambda x: x.replace(' ', 'T').strip())\n"
   ],
   "id": "36399366b3b65c84",
   "outputs": [],
   "execution_count": 2
  },
  {
   "metadata": {
    "ExecuteTime": {
     "end_time": "2024-09-16T21:33:04.330758Z",
     "start_time": "2024-09-16T21:33:04.316755Z"
    }
   },
   "cell_type": "code",
   "source": [
    "# convert to datetime\n",
    "df['First Response Time'] = pd.to_datetime(df['First Response Time'])\n",
    "df['Time to Resolution'] = pd.to_datetime(df['Time to Resolution'])"
   ],
   "id": "c5d16f4313e13ba",
   "outputs": [],
   "execution_count": 3
  },
  {
   "metadata": {
    "ExecuteTime": {
     "end_time": "2024-09-16T21:33:04.362755Z",
     "start_time": "2024-09-16T21:33:04.331755Z"
    }
   },
   "cell_type": "code",
   "source": "df.head()",
   "id": "2ab5ea91a588395a",
   "outputs": [
    {
     "data": {
      "text/plain": [
       "    Ticket ID        Customer Name             Customer Email  Customer Age  \\\n",
       "2           3  Christopher Robbins  gonzalestracy@example.com            48   \n",
       "3           4     Christina Dillon   bradleyolson@example.org            27   \n",
       "4           5    Alexander Carroll    bradleymark@example.com            67   \n",
       "10         11        Joseph Moreno         mbrown@example.org            48   \n",
       "11         12       Brandon Arnold      davisjohn@example.net            51   \n",
       "\n",
       "   Customer Gender          Product Purchased Date of Purchase  \\\n",
       "2            Other                   Dell XPS       2020-07-14   \n",
       "3           Female           Microsoft Office       2020-11-13   \n",
       "4           Female           Autodesk AutoCAD       2020-02-04   \n",
       "10            Male            Nintendo Switch       2021-01-19   \n",
       "11            Male  Microsoft Xbox Controller       2021-10-24   \n",
       "\n",
       "             Ticket Type   Ticket Subject  \\\n",
       "2        Technical issue  Network problem   \n",
       "3        Billing inquiry   Account access   \n",
       "4        Billing inquiry        Data loss   \n",
       "10  Cancellation request        Data loss   \n",
       "11       Product inquiry     Software bug   \n",
       "\n",
       "                                   Ticket Description Ticket Status  \\\n",
       "2   I'm facing a problem with my {product_purchase...        Closed   \n",
       "3   I'm having an issue with the {product_purchase...        Closed   \n",
       "4   I'm having an issue with the {product_purchase...        Closed   \n",
       "10  I'm having an issue with the {product_purchase...        Closed   \n",
       "11  I'm having an issue with the {product_purchase...        Closed   \n",
       "\n",
       "                                           Resolution Ticket Priority  \\\n",
       "2        Case maybe show recently my computer follow.             Low   \n",
       "3       Try capital clearly never color toward story.             Low   \n",
       "4                         West decision evidence bit.             Low   \n",
       "10              Measure tonight surface feel forward.            High   \n",
       "11  Measure there house management pick knowledge ...            High   \n",
       "\n",
       "   Ticket Channel First Response Time  Time to Resolution  \\\n",
       "2    Social media 2023-06-01 11:14:38 2023-06-01 11:14:38   \n",
       "3    Social media 2023-06-01 07:29:40 2023-06-01 07:29:40   \n",
       "4           Email 2023-06-01 00:12:42 2023-06-01 00:12:42   \n",
       "10          Phone 2023-06-01 17:46:49 2023-06-01 17:46:49   \n",
       "11           Chat 2023-06-01 12:05:51 2023-06-01 12:05:51   \n",
       "\n",
       "    Customer Satisfaction Rating  \n",
       "2                            3.0  \n",
       "3                            3.0  \n",
       "4                            1.0  \n",
       "10                           1.0  \n",
       "11                           1.0  "
      ],
      "text/html": [
       "<div>\n",
       "<style scoped>\n",
       "    .dataframe tbody tr th:only-of-type {\n",
       "        vertical-align: middle;\n",
       "    }\n",
       "\n",
       "    .dataframe tbody tr th {\n",
       "        vertical-align: top;\n",
       "    }\n",
       "\n",
       "    .dataframe thead th {\n",
       "        text-align: right;\n",
       "    }\n",
       "</style>\n",
       "<table border=\"1\" class=\"dataframe\">\n",
       "  <thead>\n",
       "    <tr style=\"text-align: right;\">\n",
       "      <th></th>\n",
       "      <th>Ticket ID</th>\n",
       "      <th>Customer Name</th>\n",
       "      <th>Customer Email</th>\n",
       "      <th>Customer Age</th>\n",
       "      <th>Customer Gender</th>\n",
       "      <th>Product Purchased</th>\n",
       "      <th>Date of Purchase</th>\n",
       "      <th>Ticket Type</th>\n",
       "      <th>Ticket Subject</th>\n",
       "      <th>Ticket Description</th>\n",
       "      <th>Ticket Status</th>\n",
       "      <th>Resolution</th>\n",
       "      <th>Ticket Priority</th>\n",
       "      <th>Ticket Channel</th>\n",
       "      <th>First Response Time</th>\n",
       "      <th>Time to Resolution</th>\n",
       "      <th>Customer Satisfaction Rating</th>\n",
       "    </tr>\n",
       "  </thead>\n",
       "  <tbody>\n",
       "    <tr>\n",
       "      <th>2</th>\n",
       "      <td>3</td>\n",
       "      <td>Christopher Robbins</td>\n",
       "      <td>gonzalestracy@example.com</td>\n",
       "      <td>48</td>\n",
       "      <td>Other</td>\n",
       "      <td>Dell XPS</td>\n",
       "      <td>2020-07-14</td>\n",
       "      <td>Technical issue</td>\n",
       "      <td>Network problem</td>\n",
       "      <td>I'm facing a problem with my {product_purchase...</td>\n",
       "      <td>Closed</td>\n",
       "      <td>Case maybe show recently my computer follow.</td>\n",
       "      <td>Low</td>\n",
       "      <td>Social media</td>\n",
       "      <td>2023-06-01 11:14:38</td>\n",
       "      <td>2023-06-01 11:14:38</td>\n",
       "      <td>3.0</td>\n",
       "    </tr>\n",
       "    <tr>\n",
       "      <th>3</th>\n",
       "      <td>4</td>\n",
       "      <td>Christina Dillon</td>\n",
       "      <td>bradleyolson@example.org</td>\n",
       "      <td>27</td>\n",
       "      <td>Female</td>\n",
       "      <td>Microsoft Office</td>\n",
       "      <td>2020-11-13</td>\n",
       "      <td>Billing inquiry</td>\n",
       "      <td>Account access</td>\n",
       "      <td>I'm having an issue with the {product_purchase...</td>\n",
       "      <td>Closed</td>\n",
       "      <td>Try capital clearly never color toward story.</td>\n",
       "      <td>Low</td>\n",
       "      <td>Social media</td>\n",
       "      <td>2023-06-01 07:29:40</td>\n",
       "      <td>2023-06-01 07:29:40</td>\n",
       "      <td>3.0</td>\n",
       "    </tr>\n",
       "    <tr>\n",
       "      <th>4</th>\n",
       "      <td>5</td>\n",
       "      <td>Alexander Carroll</td>\n",
       "      <td>bradleymark@example.com</td>\n",
       "      <td>67</td>\n",
       "      <td>Female</td>\n",
       "      <td>Autodesk AutoCAD</td>\n",
       "      <td>2020-02-04</td>\n",
       "      <td>Billing inquiry</td>\n",
       "      <td>Data loss</td>\n",
       "      <td>I'm having an issue with the {product_purchase...</td>\n",
       "      <td>Closed</td>\n",
       "      <td>West decision evidence bit.</td>\n",
       "      <td>Low</td>\n",
       "      <td>Email</td>\n",
       "      <td>2023-06-01 00:12:42</td>\n",
       "      <td>2023-06-01 00:12:42</td>\n",
       "      <td>1.0</td>\n",
       "    </tr>\n",
       "    <tr>\n",
       "      <th>10</th>\n",
       "      <td>11</td>\n",
       "      <td>Joseph Moreno</td>\n",
       "      <td>mbrown@example.org</td>\n",
       "      <td>48</td>\n",
       "      <td>Male</td>\n",
       "      <td>Nintendo Switch</td>\n",
       "      <td>2021-01-19</td>\n",
       "      <td>Cancellation request</td>\n",
       "      <td>Data loss</td>\n",
       "      <td>I'm having an issue with the {product_purchase...</td>\n",
       "      <td>Closed</td>\n",
       "      <td>Measure tonight surface feel forward.</td>\n",
       "      <td>High</td>\n",
       "      <td>Phone</td>\n",
       "      <td>2023-06-01 17:46:49</td>\n",
       "      <td>2023-06-01 17:46:49</td>\n",
       "      <td>1.0</td>\n",
       "    </tr>\n",
       "    <tr>\n",
       "      <th>11</th>\n",
       "      <td>12</td>\n",
       "      <td>Brandon Arnold</td>\n",
       "      <td>davisjohn@example.net</td>\n",
       "      <td>51</td>\n",
       "      <td>Male</td>\n",
       "      <td>Microsoft Xbox Controller</td>\n",
       "      <td>2021-10-24</td>\n",
       "      <td>Product inquiry</td>\n",
       "      <td>Software bug</td>\n",
       "      <td>I'm having an issue with the {product_purchase...</td>\n",
       "      <td>Closed</td>\n",
       "      <td>Measure there house management pick knowledge ...</td>\n",
       "      <td>High</td>\n",
       "      <td>Chat</td>\n",
       "      <td>2023-06-01 12:05:51</td>\n",
       "      <td>2023-06-01 12:05:51</td>\n",
       "      <td>1.0</td>\n",
       "    </tr>\n",
       "  </tbody>\n",
       "</table>\n",
       "</div>"
      ]
     },
     "execution_count": 4,
     "metadata": {},
     "output_type": "execute_result"
    }
   ],
   "execution_count": 4
  },
  {
   "metadata": {
    "ExecuteTime": {
     "end_time": "2024-09-16T21:47:03.619024Z",
     "start_time": "2024-09-16T21:47:03.602025Z"
    }
   },
   "cell_type": "code",
   "source": [
    "data = pd.DataFrame()\n",
    "data['First Response Time'] = df['First Response Time']\n",
    "# we only care about the minutes\n",
    "data['ia_minutes'] = data['First Response Time'].apply(lambda x: x.hour * 60 + x.minute)\n",
    "data.head()"
   ],
   "id": "abc6bcfacf15813f",
   "outputs": [
    {
     "data": {
      "text/plain": [
       "   First Response Time  ia_minutes\n",
       "2  2023-06-01 11:14:38         674\n",
       "3  2023-06-01 07:29:40         449\n",
       "4  2023-06-01 00:12:42          12\n",
       "10 2023-06-01 17:46:49        1066\n",
       "11 2023-06-01 12:05:51         725"
      ],
      "text/html": [
       "<div>\n",
       "<style scoped>\n",
       "    .dataframe tbody tr th:only-of-type {\n",
       "        vertical-align: middle;\n",
       "    }\n",
       "\n",
       "    .dataframe tbody tr th {\n",
       "        vertical-align: top;\n",
       "    }\n",
       "\n",
       "    .dataframe thead th {\n",
       "        text-align: right;\n",
       "    }\n",
       "</style>\n",
       "<table border=\"1\" class=\"dataframe\">\n",
       "  <thead>\n",
       "    <tr style=\"text-align: right;\">\n",
       "      <th></th>\n",
       "      <th>First Response Time</th>\n",
       "      <th>ia_minutes</th>\n",
       "    </tr>\n",
       "  </thead>\n",
       "  <tbody>\n",
       "    <tr>\n",
       "      <th>2</th>\n",
       "      <td>2023-06-01 11:14:38</td>\n",
       "      <td>674</td>\n",
       "    </tr>\n",
       "    <tr>\n",
       "      <th>3</th>\n",
       "      <td>2023-06-01 07:29:40</td>\n",
       "      <td>449</td>\n",
       "    </tr>\n",
       "    <tr>\n",
       "      <th>4</th>\n",
       "      <td>2023-06-01 00:12:42</td>\n",
       "      <td>12</td>\n",
       "    </tr>\n",
       "    <tr>\n",
       "      <th>10</th>\n",
       "      <td>2023-06-01 17:46:49</td>\n",
       "      <td>1066</td>\n",
       "    </tr>\n",
       "    <tr>\n",
       "      <th>11</th>\n",
       "      <td>2023-06-01 12:05:51</td>\n",
       "      <td>725</td>\n",
       "    </tr>\n",
       "  </tbody>\n",
       "</table>\n",
       "</div>"
      ]
     },
     "execution_count": 18,
     "metadata": {},
     "output_type": "execute_result"
    }
   ],
   "execution_count": 18
  },
  {
   "metadata": {
    "ExecuteTime": {
     "end_time": "2024-09-16T21:47:57.731913Z",
     "start_time": "2024-09-16T21:47:21.093285Z"
    }
   },
   "cell_type": "code",
   "source": [
    "from fitter import Fitter\n",
    "\n",
    "f = Fitter(data['ia_minutes'])\n",
    "f.fit()\n",
    "# may take some time since by default, all distributions are tried,\n",
    "# but you call manually provide a smaller set of distributions\n",
    "f.summary()"
   ],
   "id": "84e56c3191ac12e1",
   "outputs": [
    {
     "data": {
      "text/plain": [
       "             sumsquare_error          aic          bic    kl_div  \\\n",
       "gausshyper          0.000002  1466.389882  1501.947331  0.019318   \n",
       "beta                0.000002  1462.506606  1486.211572  0.019418   \n",
       "wrapcauchy          0.000002  1460.351323  1478.130047  0.019541   \n",
       "truncpareto         0.000002  1466.002790  1489.707756  0.019419   \n",
       "uniform             0.000002  1458.340741  1470.193224  0.019603   \n",
       "\n",
       "             ks_statistic  ks_pvalue  \n",
       "gausshyper       0.009769   0.951869  \n",
       "beta             0.016274   0.450953  \n",
       "wrapcauchy       0.013098   0.723856  \n",
       "truncpareto      0.020453   0.194334  \n",
       "uniform          0.014728   0.580024  "
      ],
      "text/html": [
       "<div>\n",
       "<style scoped>\n",
       "    .dataframe tbody tr th:only-of-type {\n",
       "        vertical-align: middle;\n",
       "    }\n",
       "\n",
       "    .dataframe tbody tr th {\n",
       "        vertical-align: top;\n",
       "    }\n",
       "\n",
       "    .dataframe thead th {\n",
       "        text-align: right;\n",
       "    }\n",
       "</style>\n",
       "<table border=\"1\" class=\"dataframe\">\n",
       "  <thead>\n",
       "    <tr style=\"text-align: right;\">\n",
       "      <th></th>\n",
       "      <th>sumsquare_error</th>\n",
       "      <th>aic</th>\n",
       "      <th>bic</th>\n",
       "      <th>kl_div</th>\n",
       "      <th>ks_statistic</th>\n",
       "      <th>ks_pvalue</th>\n",
       "    </tr>\n",
       "  </thead>\n",
       "  <tbody>\n",
       "    <tr>\n",
       "      <th>gausshyper</th>\n",
       "      <td>0.000002</td>\n",
       "      <td>1466.389882</td>\n",
       "      <td>1501.947331</td>\n",
       "      <td>0.019318</td>\n",
       "      <td>0.009769</td>\n",
       "      <td>0.951869</td>\n",
       "    </tr>\n",
       "    <tr>\n",
       "      <th>beta</th>\n",
       "      <td>0.000002</td>\n",
       "      <td>1462.506606</td>\n",
       "      <td>1486.211572</td>\n",
       "      <td>0.019418</td>\n",
       "      <td>0.016274</td>\n",
       "      <td>0.450953</td>\n",
       "    </tr>\n",
       "    <tr>\n",
       "      <th>wrapcauchy</th>\n",
       "      <td>0.000002</td>\n",
       "      <td>1460.351323</td>\n",
       "      <td>1478.130047</td>\n",
       "      <td>0.019541</td>\n",
       "      <td>0.013098</td>\n",
       "      <td>0.723856</td>\n",
       "    </tr>\n",
       "    <tr>\n",
       "      <th>truncpareto</th>\n",
       "      <td>0.000002</td>\n",
       "      <td>1466.002790</td>\n",
       "      <td>1489.707756</td>\n",
       "      <td>0.019419</td>\n",
       "      <td>0.020453</td>\n",
       "      <td>0.194334</td>\n",
       "    </tr>\n",
       "    <tr>\n",
       "      <th>uniform</th>\n",
       "      <td>0.000002</td>\n",
       "      <td>1458.340741</td>\n",
       "      <td>1470.193224</td>\n",
       "      <td>0.019603</td>\n",
       "      <td>0.014728</td>\n",
       "      <td>0.580024</td>\n",
       "    </tr>\n",
       "  </tbody>\n",
       "</table>\n",
       "</div>"
      ]
     },
     "execution_count": 19,
     "metadata": {},
     "output_type": "execute_result"
    },
    {
     "data": {
      "text/plain": [
       "<Figure size 640x480 with 1 Axes>"
      ],
      "image/png": "[encoded data removed]"
     },
     "metadata": {},
     "output_type": "display_data"
    }
   ],
   "execution_count": 19
  },
  {
   "metadata": {
    "ExecuteTime": {
     "end_time": "2024-09-16T22:00:46.761850Z",
     "start_time": "2024-09-16T22:00:46.747549Z"
    }
   },
   "cell_type": "code",
   "source": [
    "best_params_arrivals = f.get_best(method='sumsquare_error')\n",
    "print(best_params_arrivals)"
   ],
   "id": "7c48098a56a9b98b",
   "outputs": [
    {
     "name": "stdout",
     "output_type": "stream",
     "text": [
      "{'gausshyper': {'a': 0.9910362774479069, 'b': 1.0099981446827868, 'c': 0.025175633618362295, 'z': 1.0571446468675616, 'loc': -1.0356876597441011e-16, 'scale': 1439.0049867249868}}\n"
     ]
    }
   ],
   "execution_count": 20
  },
  {
   "metadata": {
    "ExecuteTime": {
     "end_time": "2024-09-16T22:01:21.619116Z",
     "start_time": "2024-09-16T22:00:58.201824Z"
    }
   },
   "cell_type": "code",
   "source": [
    "from scipy import stats\n",
    "\n",
    "ia = stats.gausshyper.rvs(**best_params_arrivals.get('gausshyper'), size=4_000)\n",
    "\n",
    "gen = pd.DataFrame()\n",
    "gen['ia'] = ia"
   ],
   "id": "d055940929f496d9",
   "outputs": [],
   "execution_count": 21
  },
  {
   "metadata": {
    "ExecuteTime": {
     "end_time": "2024-09-16T21:43:49.846897Z",
     "start_time": "2024-09-16T21:43:49.833898Z"
    }
   },
   "cell_type": "code",
   "source": "gen.head()",
   "id": "83ecb8c042ed73a3",
   "outputs": [
    {
     "name": "stdout",
     "output_type": "stream",
     "text": [
      "The history saving thread hit an unexpected error (OperationalError('database or disk is full')).History will not be written to the database.\n"
     ]
    },
    {
     "data": {
      "text/plain": [
       "                             ia\n",
       "0 2023-06-01 22:26:21.498765230\n",
       "1 2023-06-01 14:54:05.838084936\n",
       "2 2023-06-01 19:38:42.450662613\n",
       "3 2023-05-31 22:50:46.602593422\n",
       "4 2023-06-01 16:11:21.628497839"
      ],
      "text/html": [
       "<div>\n",
       "<style scoped>\n",
       "    .dataframe tbody tr th:only-of-type {\n",
       "        vertical-align: middle;\n",
       "    }\n",
       "\n",
       "    .dataframe tbody tr th {\n",
       "        vertical-align: top;\n",
       "    }\n",
       "\n",
       "    .dataframe thead th {\n",
       "        text-align: right;\n",
       "    }\n",
       "</style>\n",
       "<table border=\"1\" class=\"dataframe\">\n",
       "  <thead>\n",
       "    <tr style=\"text-align: right;\">\n",
       "      <th></th>\n",
       "      <th>ia</th>\n",
       "    </tr>\n",
       "  </thead>\n",
       "  <tbody>\n",
       "    <tr>\n",
       "      <th>0</th>\n",
       "      <td>2023-06-01 22:26:21.498765230</td>\n",
       "    </tr>\n",
       "    <tr>\n",
       "      <th>1</th>\n",
       "      <td>2023-06-01 14:54:05.838084936</td>\n",
       "    </tr>\n",
       "    <tr>\n",
       "      <th>2</th>\n",
       "      <td>2023-06-01 19:38:42.450662613</td>\n",
       "    </tr>\n",
       "    <tr>\n",
       "      <th>3</th>\n",
       "      <td>2023-05-31 22:50:46.602593422</td>\n",
       "    </tr>\n",
       "    <tr>\n",
       "      <th>4</th>\n",
       "      <td>2023-06-01 16:11:21.628497839</td>\n",
       "    </tr>\n",
       "  </tbody>\n",
       "</table>\n",
       "</div>"
      ]
     },
     "execution_count": 17,
     "metadata": {},
     "output_type": "execute_result"
    }
   ],
   "execution_count": 17
  },
  {
   "metadata": {
    "ExecuteTime": {
     "end_time": "2024-09-16T22:02:52.380622Z",
     "start_time": "2024-09-16T22:02:52.196622Z"
    }
   },
   "cell_type": "code",
   "source": [
    "import matplotlib.pyplot as plt\n",
    "\n",
    "plt.title('Arrivals')\n",
    "plt.xlabel('Minutes')\n",
    "plt.hist(gen['ia'], bins=200)\n",
    "plt.show()"
   ],
   "id": "c2f4948e6502be82",
   "outputs": [
    {
     "data": {
      "text/plain": [
       "<Figure size 640x480 with 1 Axes>"
      ],
      "image/png": "[encoded data removed]"
     },
     "metadata": {},
     "output_type": "display_data"
    }
   ],
   "execution_count": 23
  },
  {
   "metadata": {
    "ExecuteTime": {
     "end_time": "2024-09-16T22:12:07.758792Z",
     "start_time": "2024-09-16T22:12:07.740312Z"
    }
   },
   "cell_type": "code",
   "source": [
    "# same for resolution time\n",
    "data['Time to Resolution'] = df['Time to Resolution']\n",
    "data['ta_minutes'] = data['Time to Resolution'].apply(lambda x: x.hour * 60 + x.minute)"
   ],
   "id": "7ac9e29cf1cded46",
   "outputs": [],
   "execution_count": 24
  },
  {
   "metadata": {
    "ExecuteTime": {
     "end_time": "2024-09-16T22:13:14.414631Z",
     "start_time": "2024-09-16T22:12:39.042004Z"
    }
   },
   "cell_type": "code",
   "source": [
    "f = Fitter(data['ta_minutes'])\n",
    "f.fit()\n",
    "f.summary()"
   ],
   "id": "24400023142f0a6",
   "outputs": [
    {
     "data": {
      "text/plain": [
       "             sumsquare_error          aic          bic    kl_div  \\\n",
       "gausshyper          0.000002  1466.389882  1501.947331  0.019318   \n",
       "beta                0.000002  1462.506606  1486.211572  0.019418   \n",
       "wrapcauchy          0.000002  1460.351323  1478.130047  0.019541   \n",
       "truncpareto         0.000002  1466.002790  1489.707756  0.019419   \n",
       "uniform             0.000002  1458.340741  1470.193224  0.019603   \n",
       "\n",
       "             ks_statistic  ks_pvalue  \n",
       "gausshyper       0.009769   0.951869  \n",
       "beta             0.016274   0.450953  \n",
       "wrapcauchy       0.013098   0.723856  \n",
       "truncpareto      0.020453   0.194334  \n",
       "uniform          0.014728   0.580024  "
      ],
      "text/html": [
       "<div>\n",
       "<style scoped>\n",
       "    .dataframe tbody tr th:only-of-type {\n",
       "        vertical-align: middle;\n",
       "    }\n",
       "\n",
       "    .dataframe tbody tr th {\n",
       "        vertical-align: top;\n",
       "    }\n",
       "\n",
       "    .dataframe thead th {\n",
       "        text-align: right;\n",
       "    }\n",
       "</style>\n",
       "<table border=\"1\" class=\"dataframe\">\n",
       "  <thead>\n",
       "    <tr style=\"text-align: right;\">\n",
       "      <th></th>\n",
       "      <th>sumsquare_error</th>\n",
       "      <th>aic</th>\n",
       "      <th>bic</th>\n",
       "      <th>kl_div</th>\n",
       "      <th>ks_statistic</th>\n",
       "      <th>ks_pvalue</th>\n",
       "    </tr>\n",
       "  </thead>\n",
       "  <tbody>\n",
       "    <tr>\n",
       "      <th>gausshyper</th>\n",
       "      <td>0.000002</td>\n",
       "      <td>1466.389882</td>\n",
       "      <td>1501.947331</td>\n",
       "      <td>0.019318</td>\n",
       "      <td>0.009769</td>\n",
       "      <td>0.951869</td>\n",
       "    </tr>\n",
       "    <tr>\n",
       "      <th>beta</th>\n",
       "      <td>0.000002</td>\n",
       "      <td>1462.506606</td>\n",
       "      <td>1486.211572</td>\n",
       "      <td>0.019418</td>\n",
       "      <td>0.016274</td>\n",
       "      <td>0.450953</td>\n",
       "    </tr>\n",
       "    <tr>\n",
       "      <th>wrapcauchy</th>\n",
       "      <td>0.000002</td>\n",
       "      <td>1460.351323</td>\n",
       "      <td>1478.130047</td>\n",
       "      <td>0.019541</td>\n",
       "      <td>0.013098</td>\n",
       "      <td>0.723856</td>\n",
       "    </tr>\n",
       "    <tr>\n",
       "      <th>truncpareto</th>\n",
       "      <td>0.000002</td>\n",
       "      <td>1466.002790</td>\n",
       "      <td>1489.707756</td>\n",
       "      <td>0.019419</td>\n",
       "      <td>0.020453</td>\n",
       "      <td>0.194334</td>\n",
       "    </tr>\n",
       "    <tr>\n",
       "      <th>uniform</th>\n",
       "      <td>0.000002</td>\n",
       "      <td>1458.340741</td>\n",
       "      <td>1470.193224</td>\n",
       "      <td>0.019603</td>\n",
       "      <td>0.014728</td>\n",
       "      <td>0.580024</td>\n",
       "    </tr>\n",
       "  </tbody>\n",
       "</table>\n",
       "</div>"
      ]
     },
     "execution_count": 25,
     "metadata": {},
     "output_type": "execute_result"
    },
    {
     "data": {
      "text/plain": [
       "<Figure size 640x480 with 1 Axes>"
      ],
      "image/png": "[encoded data removed]"
     },
     "metadata": {},
     "output_type": "display_data"
    }
   ],
   "execution_count": 25
  },
  {
   "metadata": {
    "ExecuteTime": {
     "end_time": "2024-09-16T22:15:02.267844Z",
     "start_time": "2024-09-16T22:15:02.259118Z"
    }
   },
   "cell_type": "code",
   "source": [
    "# The best fit is the gausshyper distribution, but we can also try the beta distribution\n",
    "beta_params = f.fitted_param['beta']\n",
    "print(beta_params)"
   ],
   "id": "2e6a7431869dc0d3",
   "outputs": [
    {
     "name": "stdout",
     "output_type": "stream",
     "text": [
      "(0.983590412352064, 1.0292732862063347, -4.9879476640868376e-23, 1439.015558070154)\n"
     ]
    }
   ],
   "execution_count": 26
  },
  {
   "metadata": {
    "ExecuteTime": {
     "end_time": "2024-09-16T22:16:17.705621Z",
     "start_time": "2024-09-16T22:16:17.690620Z"
    }
   },
   "cell_type": "code",
   "source": [
    "ta = stats.beta.rvs(*beta_params, size=4_000)\n",
    "gen['ta'] = ta"
   ],
   "id": "21251218900047e",
   "outputs": [],
   "execution_count": 27
  },
  {
   "metadata": {
    "ExecuteTime": {
     "end_time": "2024-09-16T22:16:19.979504Z",
     "start_time": "2024-09-16T22:16:19.778476Z"
    }
   },
   "cell_type": "code",
   "source": [
    "plt.title('Time to Resolution')\n",
    "plt.xlabel('Minutes')\n",
    "plt.hist(gen['ta'], bins=200)\n",
    "plt.show()"
   ],
   "id": "764c954c25f3824b",
   "outputs": [
    {
     "data": {
      "text/plain": [
       "<Figure size 640x480 with 1 Axes>"
      ],
      "image/png": "[encoded data removed]"
     },
     "metadata": {},
     "output_type": "display_data"
    }
   ],
   "execution_count": 28
  }
 ],
 "metadata": {
  "kernelspec": {
   "display_name": "tp6",
   "language": "python",
   "name": "tp6"
  },
  "language_info": {
   "codemirror_mode": {
    "name": "ipython",
    "version": 2
   },
   "file_extension": ".py",
   "mimetype": "text/x-python",
   "name": "python",
   "nbconvert_exporter": "python",
   "pygments_lexer": "ipython2",
   "version": "2.7.6"
  }
 },
 "nbformat": 4,
 "nbformat_minor": 5
}
