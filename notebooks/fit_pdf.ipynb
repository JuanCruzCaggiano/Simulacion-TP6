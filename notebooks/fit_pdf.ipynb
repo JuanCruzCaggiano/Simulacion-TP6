{
 "cells": [
  {
   "metadata": {},
   "cell_type": "markdown",
   "source": "## Fit PDF\n",
   "id": "4e0f82457b8992fd"
  },
  {
   "metadata": {
    "ExecuteTime": {
     "end_time": "2024-09-16T22:31:37.092112Z",
     "start_time": "2024-09-16T22:31:36.703480Z"
    }
   },
   "cell_type": "code",
   "source": [
    "# load csv\n",
    "import pandas as pd\n",
    "\n",
    "df = pd.read_csv('../customer_support_tickets.csv')"
   ],
   "id": "b742717325950ddf",
   "outputs": [],
   "execution_count": 1
  },
  {
   "metadata": {
    "ExecuteTime": {
     "end_time": "2024-09-16T22:31:37.107114Z",
     "start_time": "2024-09-16T22:31:37.093115Z"
    }
   },
   "cell_type": "code",
   "source": [
    "# drop first response time Null/Nan and Time to resolution NaN/Null\n",
    "df.dropna(inplace=True)\n",
    "\n",
    "df['First Response Time'] = df['First Response Time'].apply(lambda x: x.replace(' ', 'T').strip())\n",
    "df['Time to Resolution'] = df['Time to Resolution'].apply(lambda x: x.replace(' ', 'T').strip())\n"
   ],
   "id": "36399366b3b65c84",
   "outputs": [],
   "execution_count": 2
  },
  {
   "metadata": {
    "ExecuteTime": {
     "end_time": "2024-09-16T22:31:37.122666Z",
     "start_time": "2024-09-16T22:31:37.108114Z"
    }
   },
   "cell_type": "code",
   "source": [
    "# convert to datetime\n",
    "df['First Response Time'] = pd.to_datetime(df['First Response Time'])\n",
    "df['Time to Resolution'] = pd.to_datetime(df['Time to Resolution'])"
   ],
   "id": "c5d16f4313e13ba",
   "outputs": [],
   "execution_count": 3
  },
  {
   "metadata": {
    "ExecuteTime": {
     "end_time": "2024-09-16T22:31:37.138666Z",
     "start_time": "2024-09-16T22:31:37.123667Z"
    }
   },
   "cell_type": "code",
   "source": [
    "# remove where 'First Response Time' is greater or equal than 'Time to Resolution'\n",
    "df = df[df['First Response Time'] < df['Time to Resolution']]"
   ],
   "id": "b52f0ff47fc2efc7",
   "outputs": [],
   "execution_count": 4
  },
  {
   "metadata": {
    "ExecuteTime": {
     "end_time": "2024-09-16T22:31:37.170238Z",
     "start_time": "2024-09-16T22:31:37.140669Z"
    }
   },
   "cell_type": "code",
   "source": "df.head()",
   "id": "2ab5ea91a588395a",
   "outputs": [
    {
     "data": {
      "text/plain": [
       "    Ticket ID        Customer Name             Customer Email  Customer Age  \\\n",
       "2           3  Christopher Robbins  gonzalestracy@example.com            48   \n",
       "4           5    Alexander Carroll    bradleymark@example.com            67   \n",
       "19         20    Jeffrey Robertson     jameslopez@example.com            39   \n",
       "28         29       Christine Wang    garciastacy@example.com            30   \n",
       "29         30        Austin George      shericase@example.net            67   \n",
       "\n",
       "   Customer Gender Product Purchased Date of Purchase           Ticket Type  \\\n",
       "2            Other          Dell XPS       2020-07-14       Technical issue   \n",
       "4           Female  Autodesk AutoCAD       2020-02-04       Billing inquiry   \n",
       "19          Female         Canon EOS       2021-03-08        Refund request   \n",
       "28           Other     Fitbit Charge       2020-06-10       Technical issue   \n",
       "29            Male              Xbox       2020-12-26  Cancellation request   \n",
       "\n",
       "            Ticket Subject                                 Ticket Description  \\\n",
       "2          Network problem  I'm facing a problem with my {product_purchase...   \n",
       "4                Data loss  I'm having an issue with the {product_purchase...   \n",
       "19            Software bug  I'm having an issue with the {product_purchase...   \n",
       "28  Product recommendation  I'm having an issue with the {product_purchase...   \n",
       "29    Cancellation request  I'm having an issue with the {product_purchase...   \n",
       "\n",
       "   Ticket Status                                    Resolution  \\\n",
       "2         Closed  Case maybe show recently my computer follow.   \n",
       "4         Closed                   West decision evidence bit.   \n",
       "19        Closed             Wish mouth build resource though.   \n",
       "28        Closed                       Soldier we such inside.   \n",
       "29        Closed      Firm sort voice above which site arrive.   \n",
       "\n",
       "   Ticket Priority Ticket Channel First Response Time  Time to Resolution  \\\n",
       "2              Low   Social media 2023-06-01 11:14:38 2023-06-01 18:05:38   \n",
       "4              Low          Email 2023-06-01 00:12:42 2023-06-01 19:53:42   \n",
       "19             Low           Chat 2023-06-01 00:46:04 2023-06-01 20:29:04   \n",
       "28        Critical          Phone 2023-05-31 23:17:17 2023-06-01 06:03:17   \n",
       "29          Medium          Phone 2023-06-01 00:54:17 2023-06-01 18:23:17   \n",
       "\n",
       "    Customer Satisfaction Rating  \n",
       "2                            3.0  \n",
       "4                            1.0  \n",
       "19                           5.0  \n",
       "28                           5.0  \n",
       "29                           1.0  "
      ],
      "text/html": [
       "<div>\n",
       "<style scoped>\n",
       "    .dataframe tbody tr th:only-of-type {\n",
       "        vertical-align: middle;\n",
       "    }\n",
       "\n",
       "    .dataframe tbody tr th {\n",
       "        vertical-align: top;\n",
       "    }\n",
       "\n",
       "    .dataframe thead th {\n",
       "        text-align: right;\n",
       "    }\n",
       "</style>\n",
       "<table border=\"1\" class=\"dataframe\">\n",
       "  <thead>\n",
       "    <tr style=\"text-align: right;\">\n",
       "      <th></th>\n",
       "      <th>Ticket ID</th>\n",
       "      <th>Customer Name</th>\n",
       "      <th>Customer Email</th>\n",
       "      <th>Customer Age</th>\n",
       "      <th>Customer Gender</th>\n",
       "      <th>Product Purchased</th>\n",
       "      <th>Date of Purchase</th>\n",
       "      <th>Ticket Type</th>\n",
       "      <th>Ticket Subject</th>\n",
       "      <th>Ticket Description</th>\n",
       "      <th>Ticket Status</th>\n",
       "      <th>Resolution</th>\n",
       "      <th>Ticket Priority</th>\n",
       "      <th>Ticket Channel</th>\n",
       "      <th>First Response Time</th>\n",
       "      <th>Time to Resolution</th>\n",
       "      <th>Customer Satisfaction Rating</th>\n",
       "    </tr>\n",
       "  </thead>\n",
       "  <tbody>\n",
       "    <tr>\n",
       "      <th>2</th>\n",
       "      <td>3</td>\n",
       "      <td>Christopher Robbins</td>\n",
       "      <td>gonzalestracy@example.com</td>\n",
       "      <td>48</td>\n",
       "      <td>Other</td>\n",
       "      <td>Dell XPS</td>\n",
       "      <td>2020-07-14</td>\n",
       "      <td>Technical issue</td>\n",
       "      <td>Network problem</td>\n",
       "      <td>I'm facing a problem with my {product_purchase...</td>\n",
       "      <td>Closed</td>\n",
       "      <td>Case maybe show recently my computer follow.</td>\n",
       "      <td>Low</td>\n",
       "      <td>Social media</td>\n",
       "      <td>2023-06-01 11:14:38</td>\n",
       "      <td>2023-06-01 18:05:38</td>\n",
       "      <td>3.0</td>\n",
       "    </tr>\n",
       "    <tr>\n",
       "      <th>4</th>\n",
       "      <td>5</td>\n",
       "      <td>Alexander Carroll</td>\n",
       "      <td>bradleymark@example.com</td>\n",
       "      <td>67</td>\n",
       "      <td>Female</td>\n",
       "      <td>Autodesk AutoCAD</td>\n",
       "      <td>2020-02-04</td>\n",
       "      <td>Billing inquiry</td>\n",
       "      <td>Data loss</td>\n",
       "      <td>I'm having an issue with the {product_purchase...</td>\n",
       "      <td>Closed</td>\n",
       "      <td>West decision evidence bit.</td>\n",
       "      <td>Low</td>\n",
       "      <td>Email</td>\n",
       "      <td>2023-06-01 00:12:42</td>\n",
       "      <td>2023-06-01 19:53:42</td>\n",
       "      <td>1.0</td>\n",
       "    </tr>\n",
       "    <tr>\n",
       "      <th>19</th>\n",
       "      <td>20</td>\n",
       "      <td>Jeffrey Robertson</td>\n",
       "      <td>jameslopez@example.com</td>\n",
       "      <td>39</td>\n",
       "      <td>Female</td>\n",
       "      <td>Canon EOS</td>\n",
       "      <td>2021-03-08</td>\n",
       "      <td>Refund request</td>\n",
       "      <td>Software bug</td>\n",
       "      <td>I'm having an issue with the {product_purchase...</td>\n",
       "      <td>Closed</td>\n",
       "      <td>Wish mouth build resource though.</td>\n",
       "      <td>Low</td>\n",
       "      <td>Chat</td>\n",
       "      <td>2023-06-01 00:46:04</td>\n",
       "      <td>2023-06-01 20:29:04</td>\n",
       "      <td>5.0</td>\n",
       "    </tr>\n",
       "    <tr>\n",
       "      <th>28</th>\n",
       "      <td>29</td>\n",
       "      <td>Christine Wang</td>\n",
       "      <td>garciastacy@example.com</td>\n",
       "      <td>30</td>\n",
       "      <td>Other</td>\n",
       "      <td>Fitbit Charge</td>\n",
       "      <td>2020-06-10</td>\n",
       "      <td>Technical issue</td>\n",
       "      <td>Product recommendation</td>\n",
       "      <td>I'm having an issue with the {product_purchase...</td>\n",
       "      <td>Closed</td>\n",
       "      <td>Soldier we such inside.</td>\n",
       "      <td>Critical</td>\n",
       "      <td>Phone</td>\n",
       "      <td>2023-05-31 23:17:17</td>\n",
       "      <td>2023-06-01 06:03:17</td>\n",
       "      <td>5.0</td>\n",
       "    </tr>\n",
       "    <tr>\n",
       "      <th>29</th>\n",
       "      <td>30</td>\n",
       "      <td>Austin George</td>\n",
       "      <td>shericase@example.net</td>\n",
       "      <td>67</td>\n",
       "      <td>Male</td>\n",
       "      <td>Xbox</td>\n",
       "      <td>2020-12-26</td>\n",
       "      <td>Cancellation request</td>\n",
       "      <td>Cancellation request</td>\n",
       "      <td>I'm having an issue with the {product_purchase...</td>\n",
       "      <td>Closed</td>\n",
       "      <td>Firm sort voice above which site arrive.</td>\n",
       "      <td>Medium</td>\n",
       "      <td>Phone</td>\n",
       "      <td>2023-06-01 00:54:17</td>\n",
       "      <td>2023-06-01 18:23:17</td>\n",
       "      <td>1.0</td>\n",
       "    </tr>\n",
       "  </tbody>\n",
       "</table>\n",
       "</div>"
      ]
     },
     "execution_count": 5,
     "metadata": {},
     "output_type": "execute_result"
    }
   ],
   "execution_count": 5
  },
  {
   "metadata": {
    "ExecuteTime": {
     "end_time": "2024-09-16T22:31:37.185237Z",
     "start_time": "2024-09-16T22:31:37.171238Z"
    }
   },
   "cell_type": "code",
   "source": [
    "data = pd.DataFrame()\n",
    "data['First Response Time'] = df['First Response Time']\n",
    "# we only care about the minutes\n",
    "data['ia_minutes'] = data['First Response Time'].apply(lambda x: x.hour * 60 + x.minute)\n",
    "data.head()"
   ],
   "id": "abc6bcfacf15813f",
   "outputs": [
    {
     "data": {
      "text/plain": [
       "   First Response Time  ia_minutes\n",
       "2  2023-06-01 11:14:38         674\n",
       "4  2023-06-01 00:12:42          12\n",
       "19 2023-06-01 00:46:04          46\n",
       "28 2023-05-31 23:17:17        1397\n",
       "29 2023-06-01 00:54:17          54"
      ],
      "text/html": [
       "<div>\n",
       "<style scoped>\n",
       "    .dataframe tbody tr th:only-of-type {\n",
       "        vertical-align: middle;\n",
       "    }\n",
       "\n",
       "    .dataframe tbody tr th {\n",
       "        vertical-align: top;\n",
       "    }\n",
       "\n",
       "    .dataframe thead th {\n",
       "        text-align: right;\n",
       "    }\n",
       "</style>\n",
       "<table border=\"1\" class=\"dataframe\">\n",
       "  <thead>\n",
       "    <tr style=\"text-align: right;\">\n",
       "      <th></th>\n",
       "      <th>First Response Time</th>\n",
       "      <th>ia_minutes</th>\n",
       "    </tr>\n",
       "  </thead>\n",
       "  <tbody>\n",
       "    <tr>\n",
       "      <th>2</th>\n",
       "      <td>2023-06-01 11:14:38</td>\n",
       "      <td>674</td>\n",
       "    </tr>\n",
       "    <tr>\n",
       "      <th>4</th>\n",
       "      <td>2023-06-01 00:12:42</td>\n",
       "      <td>12</td>\n",
       "    </tr>\n",
       "    <tr>\n",
       "      <th>19</th>\n",
       "      <td>2023-06-01 00:46:04</td>\n",
       "      <td>46</td>\n",
       "    </tr>\n",
       "    <tr>\n",
       "      <th>28</th>\n",
       "      <td>2023-05-31 23:17:17</td>\n",
       "      <td>1397</td>\n",
       "    </tr>\n",
       "    <tr>\n",
       "      <th>29</th>\n",
       "      <td>2023-06-01 00:54:17</td>\n",
       "      <td>54</td>\n",
       "    </tr>\n",
       "  </tbody>\n",
       "</table>\n",
       "</div>"
      ]
     },
     "execution_count": 6,
     "metadata": {},
     "output_type": "execute_result"
    }
   ],
   "execution_count": 6
  },
  {
   "metadata": {
    "ExecuteTime": {
     "end_time": "2024-09-16T22:31:37.201237Z",
     "start_time": "2024-09-16T22:31:37.186238Z"
    }
   },
   "cell_type": "code",
   "source": "data['ia_minutes'].describe()",
   "id": "bef17ceb52bcce8",
   "outputs": [
    {
     "data": {
      "text/plain": [
       "count    1402.000000\n",
       "mean      534.676890\n",
       "std       388.557892\n",
       "min         1.000000\n",
       "25%       210.250000\n",
       "50%       452.000000\n",
       "75%       804.750000\n",
       "max      1439.000000\n",
       "Name: ia_minutes, dtype: float64"
      ]
     },
     "execution_count": 7,
     "metadata": {},
     "output_type": "execute_result"
    }
   ],
   "execution_count": 7
  },
  {
   "metadata": {
    "ExecuteTime": {
     "end_time": "2024-09-16T22:32:13.199718Z",
     "start_time": "2024-09-16T22:31:37.202237Z"
    }
   },
   "cell_type": "code",
   "source": [
    "from fitter import Fitter\n",
    "\n",
    "f = Fitter(data['ia_minutes'])\n",
    "f.fit()\n",
    "# may take some time since by default, all distributions are tried,\n",
    "# but you call manually provide a smaller set of distributions\n",
    "f.summary()"
   ],
   "id": "84e56c3191ac12e1",
   "outputs": [
    {
     "data": {
      "text/plain": [
       "            sumsquare_error          aic          bic    kl_div  ks_statistic  \\\n",
       "gausshyper         0.000005  1491.361519  1522.835450  0.069552      0.043647   \n",
       "triang             0.000005  1490.957779  1506.694745  0.072054      0.031021   \n",
       "beta               0.000005  1492.528642  1513.511262  0.072941      0.030691   \n",
       "halfnorm           0.000005  1505.828735  1516.320045  0.068359      0.029362   \n",
       "skewnorm           0.000005  1507.566592  1523.303558  0.068394      0.029270   \n",
       "\n",
       "            ks_pvalue  \n",
       "gausshyper   0.009287  \n",
       "triang       0.131815  \n",
       "beta         0.139604  \n",
       "halfnorm     0.174707  \n",
       "skewnorm     0.177383  "
      ],
      "text/html": [
       "<div>\n",
       "<style scoped>\n",
       "    .dataframe tbody tr th:only-of-type {\n",
       "        vertical-align: middle;\n",
       "    }\n",
       "\n",
       "    .dataframe tbody tr th {\n",
       "        vertical-align: top;\n",
       "    }\n",
       "\n",
       "    .dataframe thead th {\n",
       "        text-align: right;\n",
       "    }\n",
       "</style>\n",
       "<table border=\"1\" class=\"dataframe\">\n",
       "  <thead>\n",
       "    <tr style=\"text-align: right;\">\n",
       "      <th></th>\n",
       "      <th>sumsquare_error</th>\n",
       "      <th>aic</th>\n",
       "      <th>bic</th>\n",
       "      <th>kl_div</th>\n",
       "      <th>ks_statistic</th>\n",
       "      <th>ks_pvalue</th>\n",
       "    </tr>\n",
       "  </thead>\n",
       "  <tbody>\n",
       "    <tr>\n",
       "      <th>gausshyper</th>\n",
       "      <td>0.000005</td>\n",
       "      <td>1491.361519</td>\n",
       "      <td>1522.835450</td>\n",
       "      <td>0.069552</td>\n",
       "      <td>0.043647</td>\n",
       "      <td>0.009287</td>\n",
       "    </tr>\n",
       "    <tr>\n",
       "      <th>triang</th>\n",
       "      <td>0.000005</td>\n",
       "      <td>1490.957779</td>\n",
       "      <td>1506.694745</td>\n",
       "      <td>0.072054</td>\n",
       "      <td>0.031021</td>\n",
       "      <td>0.131815</td>\n",
       "    </tr>\n",
       "    <tr>\n",
       "      <th>beta</th>\n",
       "      <td>0.000005</td>\n",
       "      <td>1492.528642</td>\n",
       "      <td>1513.511262</td>\n",
       "      <td>0.072941</td>\n",
       "      <td>0.030691</td>\n",
       "      <td>0.139604</td>\n",
       "    </tr>\n",
       "    <tr>\n",
       "      <th>halfnorm</th>\n",
       "      <td>0.000005</td>\n",
       "      <td>1505.828735</td>\n",
       "      <td>1516.320045</td>\n",
       "      <td>0.068359</td>\n",
       "      <td>0.029362</td>\n",
       "      <td>0.174707</td>\n",
       "    </tr>\n",
       "    <tr>\n",
       "      <th>skewnorm</th>\n",
       "      <td>0.000005</td>\n",
       "      <td>1507.566592</td>\n",
       "      <td>1523.303558</td>\n",
       "      <td>0.068394</td>\n",
       "      <td>0.029270</td>\n",
       "      <td>0.177383</td>\n",
       "    </tr>\n",
       "  </tbody>\n",
       "</table>\n",
       "</div>"
      ]
     },
     "execution_count": 8,
     "metadata": {},
     "output_type": "execute_result"
    },
    {
     "data": {
      "text/plain": [
       "<Figure size 640x480 with 1 Axes>"
      ],
      "image/png": "[encoded data removed]"
     },
     "metadata": {},
     "output_type": "display_data"
    }
   ],
   "execution_count": 8
  },
  {
   "metadata": {
    "ExecuteTime": {
     "end_time": "2024-09-16T22:32:13.215238Z",
     "start_time": "2024-09-16T22:32:13.200719Z"
    }
   },
   "cell_type": "code",
   "source": [
    "best_params_arrivals = f.get_best(method='sumsquare_error')\n",
    "print(best_params_arrivals)"
   ],
   "id": "7c48098a56a9b98b",
   "outputs": [
    {
     "name": "stdout",
     "output_type": "stream",
     "text": [
      "{'gausshyper': {'a': 1.2103881166106585, 'b': 0.843108106913649, 'c': 2.8473099969885896, 'z': 1.6695248905601998, 'loc': -7.421020039786053, 'scale': 1446.4210200397865}}\n"
     ]
    }
   ],
   "execution_count": 9
  },
  {
   "metadata": {
    "ExecuteTime": {
     "end_time": "2024-09-16T22:32:39.549923Z",
     "start_time": "2024-09-16T22:32:13.215238Z"
    }
   },
   "cell_type": "code",
   "source": [
    "from scipy import stats\n",
    "\n",
    "ia = stats.gausshyper.rvs(**best_params_arrivals.get('gausshyper'), size=4_000)\n",
    "\n",
    "gen = pd.DataFrame()\n",
    "gen['ia'] = ia"
   ],
   "id": "d055940929f496d9",
   "outputs": [],
   "execution_count": 10
  },
  {
   "metadata": {
    "ExecuteTime": {
     "end_time": "2024-09-16T22:32:39.564921Z",
     "start_time": "2024-09-16T22:32:39.550922Z"
    }
   },
   "cell_type": "code",
   "source": "gen.head()",
   "id": "83ecb8c042ed73a3",
   "outputs": [
    {
     "data": {
      "text/plain": [
       "            ia\n",
       "0    65.512524\n",
       "1   685.374648\n",
       "2  1077.207953\n",
       "3  1242.271678\n",
       "4    46.798366"
      ],
      "text/html": [
       "<div>\n",
       "<style scoped>\n",
       "    .dataframe tbody tr th:only-of-type {\n",
       "        vertical-align: middle;\n",
       "    }\n",
       "\n",
       "    .dataframe tbody tr th {\n",
       "        vertical-align: top;\n",
       "    }\n",
       "\n",
       "    .dataframe thead th {\n",
       "        text-align: right;\n",
       "    }\n",
       "</style>\n",
       "<table border=\"1\" class=\"dataframe\">\n",
       "  <thead>\n",
       "    <tr style=\"text-align: right;\">\n",
       "      <th></th>\n",
       "      <th>ia</th>\n",
       "    </tr>\n",
       "  </thead>\n",
       "  <tbody>\n",
       "    <tr>\n",
       "      <th>0</th>\n",
       "      <td>65.512524</td>\n",
       "    </tr>\n",
       "    <tr>\n",
       "      <th>1</th>\n",
       "      <td>685.374648</td>\n",
       "    </tr>\n",
       "    <tr>\n",
       "      <th>2</th>\n",
       "      <td>1077.207953</td>\n",
       "    </tr>\n",
       "    <tr>\n",
       "      <th>3</th>\n",
       "      <td>1242.271678</td>\n",
       "    </tr>\n",
       "    <tr>\n",
       "      <th>4</th>\n",
       "      <td>46.798366</td>\n",
       "    </tr>\n",
       "  </tbody>\n",
       "</table>\n",
       "</div>"
      ]
     },
     "execution_count": 11,
     "metadata": {},
     "output_type": "execute_result"
    }
   ],
   "execution_count": 11
  },
  {
   "metadata": {
    "ExecuteTime": {
     "end_time": "2024-09-16T22:32:39.579943Z",
     "start_time": "2024-09-16T22:32:39.565922Z"
    }
   },
   "cell_type": "code",
   "source": "gen['ia'].describe()",
   "id": "e06d0827bd05c589",
   "outputs": [
    {
     "data": {
      "text/plain": [
       "count    4000.000000\n",
       "mean      516.098323\n",
       "std       401.172157\n",
       "min        -6.821943\n",
       "25%       172.277746\n",
       "50%       417.464387\n",
       "75%       790.698195\n",
       "max      1438.781281\n",
       "Name: ia, dtype: float64"
      ]
     },
     "execution_count": 12,
     "metadata": {},
     "output_type": "execute_result"
    }
   ],
   "execution_count": 12
  },
  {
   "metadata": {
    "ExecuteTime": {
     "end_time": "2024-09-16T22:32:39.780199Z",
     "start_time": "2024-09-16T22:32:39.580945Z"
    }
   },
   "cell_type": "code",
   "source": [
    "import matplotlib.pyplot as plt\n",
    "\n",
    "plt.title('Arrivals')\n",
    "plt.xlabel('Minutes')\n",
    "plt.hist(gen['ia'], bins=200)\n",
    "plt.show()"
   ],
   "id": "c2f4948e6502be82",
   "outputs": [
    {
     "data": {
      "text/plain": [
       "<Figure size 640x480 with 1 Axes>"
      ],
      "image/png": "[encoded data removed]"
     },
     "metadata": {},
     "output_type": "display_data"
    }
   ],
   "execution_count": 13
  },
  {
   "metadata": {
    "ExecuteTime": {
     "end_time": "2024-09-16T22:32:39.795886Z",
     "start_time": "2024-09-16T22:32:39.782202Z"
    }
   },
   "cell_type": "code",
   "source": [
    "# same for resolution time\n",
    "data = pd.DataFrame()\n",
    "data['Time to Resolution'] = df['Time to Resolution']\n",
    "data['ta_minutes'] = df['Time to Resolution'].apply(lambda x: x.hour * 60 + x.minute)\n",
    "data"
   ],
   "id": "7ac9e29cf1cded46",
   "outputs": [
    {
     "data": {
      "text/plain": [
       "      Time to Resolution  ta_minutes\n",
       "2    2023-06-01 18:05:38        1085\n",
       "4    2023-06-01 19:53:42        1193\n",
       "19   2023-06-01 20:29:04        1229\n",
       "28   2023-06-01 06:03:17         363\n",
       "29   2023-06-01 18:23:17        1103\n",
       "...                  ...         ...\n",
       "8430 2023-06-01 17:16:36        1036\n",
       "8432 2023-06-01 15:47:38         947\n",
       "8435 2023-06-02 00:16:42          16\n",
       "8448 2023-06-01 19:14:59        1154\n",
       "8450 2023-06-01 18:54:01        1134\n",
       "\n",
       "[1402 rows x 2 columns]"
      ],
      "text/html": [
       "<div>\n",
       "<style scoped>\n",
       "    .dataframe tbody tr th:only-of-type {\n",
       "        vertical-align: middle;\n",
       "    }\n",
       "\n",
       "    .dataframe tbody tr th {\n",
       "        vertical-align: top;\n",
       "    }\n",
       "\n",
       "    .dataframe thead th {\n",
       "        text-align: right;\n",
       "    }\n",
       "</style>\n",
       "<table border=\"1\" class=\"dataframe\">\n",
       "  <thead>\n",
       "    <tr style=\"text-align: right;\">\n",
       "      <th></th>\n",
       "      <th>Time to Resolution</th>\n",
       "      <th>ta_minutes</th>\n",
       "    </tr>\n",
       "  </thead>\n",
       "  <tbody>\n",
       "    <tr>\n",
       "      <th>2</th>\n",
       "      <td>2023-06-01 18:05:38</td>\n",
       "      <td>1085</td>\n",
       "    </tr>\n",
       "    <tr>\n",
       "      <th>4</th>\n",
       "      <td>2023-06-01 19:53:42</td>\n",
       "      <td>1193</td>\n",
       "    </tr>\n",
       "    <tr>\n",
       "      <th>19</th>\n",
       "      <td>2023-06-01 20:29:04</td>\n",
       "      <td>1229</td>\n",
       "    </tr>\n",
       "    <tr>\n",
       "      <th>28</th>\n",
       "      <td>2023-06-01 06:03:17</td>\n",
       "      <td>363</td>\n",
       "    </tr>\n",
       "    <tr>\n",
       "      <th>29</th>\n",
       "      <td>2023-06-01 18:23:17</td>\n",
       "      <td>1103</td>\n",
       "    </tr>\n",
       "    <tr>\n",
       "      <th>...</th>\n",
       "      <td>...</td>\n",
       "      <td>...</td>\n",
       "    </tr>\n",
       "    <tr>\n",
       "      <th>8430</th>\n",
       "      <td>2023-06-01 17:16:36</td>\n",
       "      <td>1036</td>\n",
       "    </tr>\n",
       "    <tr>\n",
       "      <th>8432</th>\n",
       "      <td>2023-06-01 15:47:38</td>\n",
       "      <td>947</td>\n",
       "    </tr>\n",
       "    <tr>\n",
       "      <th>8435</th>\n",
       "      <td>2023-06-02 00:16:42</td>\n",
       "      <td>16</td>\n",
       "    </tr>\n",
       "    <tr>\n",
       "      <th>8448</th>\n",
       "      <td>2023-06-01 19:14:59</td>\n",
       "      <td>1154</td>\n",
       "    </tr>\n",
       "    <tr>\n",
       "      <th>8450</th>\n",
       "      <td>2023-06-01 18:54:01</td>\n",
       "      <td>1134</td>\n",
       "    </tr>\n",
       "  </tbody>\n",
       "</table>\n",
       "<p>1402 rows × 2 columns</p>\n",
       "</div>"
      ]
     },
     "execution_count": 14,
     "metadata": {},
     "output_type": "execute_result"
    }
   ],
   "execution_count": 14
  },
  {
   "metadata": {
    "ExecuteTime": {
     "end_time": "2024-09-16T22:32:39.810896Z",
     "start_time": "2024-09-16T22:32:39.796886Z"
    }
   },
   "cell_type": "code",
   "source": "data['ta_minutes'].head()",
   "id": "945b35b95bd465bc",
   "outputs": [
    {
     "data": {
      "text/plain": [
       "2     1085\n",
       "4     1193\n",
       "19    1229\n",
       "28     363\n",
       "29    1103\n",
       "Name: ta_minutes, dtype: int64"
      ]
     },
     "execution_count": 15,
     "metadata": {},
     "output_type": "execute_result"
    }
   ],
   "execution_count": 15
  },
  {
   "metadata": {
    "ExecuteTime": {
     "end_time": "2024-09-16T22:32:39.826128Z",
     "start_time": "2024-09-16T22:32:39.812135Z"
    }
   },
   "cell_type": "code",
   "source": "data['ta_minutes'].describe()",
   "id": "61dc74043ebd30d3",
   "outputs": [
    {
     "data": {
      "text/plain": [
       "count    1402.000000\n",
       "mean      890.372325\n",
       "std       348.097412\n",
       "min         1.000000\n",
       "25%       637.250000\n",
       "50%       948.000000\n",
       "75%      1175.750000\n",
       "max      1439.000000\n",
       "Name: ta_minutes, dtype: float64"
      ]
     },
     "execution_count": 16,
     "metadata": {},
     "output_type": "execute_result"
    }
   ],
   "execution_count": 16
  },
  {
   "metadata": {
    "ExecuteTime": {
     "end_time": "2024-09-16T22:33:11.969142Z",
     "start_time": "2024-09-16T22:32:39.827129Z"
    }
   },
   "cell_type": "code",
   "source": [
    "f = Fitter(data['ta_minutes'])\n",
    "f.fit()\n",
    "f.summary()"
   ],
   "id": "24400023142f0a6",
   "outputs": [
    {
     "data": {
      "text/plain": [
       "            sumsquare_error          aic          bic    kl_div  ks_statistic  \\\n",
       "gausshyper         0.000004  1497.964293  1529.438223  0.039057      0.019903   \n",
       "argus              0.000004  1495.514675  1511.251640  0.041707      0.013725   \n",
       "beta               0.000004  1496.371739  1517.354360  0.042441      0.019441   \n",
       "johnsonsb          0.000004  1495.055903  1516.038524  0.044257      0.021289   \n",
       "triang             0.000004  1497.109963  1512.846928  0.045275      0.024429   \n",
       "\n",
       "            ks_pvalue  \n",
       "gausshyper   0.627777  \n",
       "argus        0.951033  \n",
       "beta         0.656963  \n",
       "johnsonsb    0.541657  \n",
       "triang       0.366862  "
      ],
      "text/html": [
       "<div>\n",
       "<style scoped>\n",
       "    .dataframe tbody tr th:only-of-type {\n",
       "        vertical-align: middle;\n",
       "    }\n",
       "\n",
       "    .dataframe tbody tr th {\n",
       "        vertical-align: top;\n",
       "    }\n",
       "\n",
       "    .dataframe thead th {\n",
       "        text-align: right;\n",
       "    }\n",
       "</style>\n",
       "<table border=\"1\" class=\"dataframe\">\n",
       "  <thead>\n",
       "    <tr style=\"text-align: right;\">\n",
       "      <th></th>\n",
       "      <th>sumsquare_error</th>\n",
       "      <th>aic</th>\n",
       "      <th>bic</th>\n",
       "      <th>kl_div</th>\n",
       "      <th>ks_statistic</th>\n",
       "      <th>ks_pvalue</th>\n",
       "    </tr>\n",
       "  </thead>\n",
       "  <tbody>\n",
       "    <tr>\n",
       "      <th>gausshyper</th>\n",
       "      <td>0.000004</td>\n",
       "      <td>1497.964293</td>\n",
       "      <td>1529.438223</td>\n",
       "      <td>0.039057</td>\n",
       "      <td>0.019903</td>\n",
       "      <td>0.627777</td>\n",
       "    </tr>\n",
       "    <tr>\n",
       "      <th>argus</th>\n",
       "      <td>0.000004</td>\n",
       "      <td>1495.514675</td>\n",
       "      <td>1511.251640</td>\n",
       "      <td>0.041707</td>\n",
       "      <td>0.013725</td>\n",
       "      <td>0.951033</td>\n",
       "    </tr>\n",
       "    <tr>\n",
       "      <th>beta</th>\n",
       "      <td>0.000004</td>\n",
       "      <td>1496.371739</td>\n",
       "      <td>1517.354360</td>\n",
       "      <td>0.042441</td>\n",
       "      <td>0.019441</td>\n",
       "      <td>0.656963</td>\n",
       "    </tr>\n",
       "    <tr>\n",
       "      <th>johnsonsb</th>\n",
       "      <td>0.000004</td>\n",
       "      <td>1495.055903</td>\n",
       "      <td>1516.038524</td>\n",
       "      <td>0.044257</td>\n",
       "      <td>0.021289</td>\n",
       "      <td>0.541657</td>\n",
       "    </tr>\n",
       "    <tr>\n",
       "      <th>triang</th>\n",
       "      <td>0.000004</td>\n",
       "      <td>1497.109963</td>\n",
       "      <td>1512.846928</td>\n",
       "      <td>0.045275</td>\n",
       "      <td>0.024429</td>\n",
       "      <td>0.366862</td>\n",
       "    </tr>\n",
       "  </tbody>\n",
       "</table>\n",
       "</div>"
      ]
     },
     "execution_count": 17,
     "metadata": {},
     "output_type": "execute_result"
    },
    {
     "data": {
      "text/plain": [
       "<Figure size 640x480 with 1 Axes>"
      ],
      "image/png": "[encoded data removed]"
     },
     "metadata": {},
     "output_type": "display_data"
    }
   ],
   "execution_count": 17
  },
  {
   "metadata": {
    "ExecuteTime": {
     "end_time": "2024-09-16T22:34:06.715542Z",
     "start_time": "2024-09-16T22:34:06.708542Z"
    }
   },
   "cell_type": "code",
   "source": [
    "# The best fit is the gausshyper distribution, but we can also try the argus distribution\n",
    "argus_params = f.fitted_param['argus']\n",
    "print(argus_params)"
   ],
   "id": "2e6a7431869dc0d3",
   "outputs": [
    {
     "name": "stdout",
     "output_type": "stream",
     "text": [
      "(1.2968719888041922, -82.73543787957408, 1524.8395788940456)\n"
     ]
    }
   ],
   "execution_count": 22
  },
  {
   "metadata": {
    "ExecuteTime": {
     "end_time": "2024-09-16T22:34:09.084705Z",
     "start_time": "2024-09-16T22:34:09.069707Z"
    }
   },
   "cell_type": "code",
   "source": [
    "ta = stats.argus.rvs(*argus_params, size=4_000)\n",
    "gen['ta'] = ta"
   ],
   "id": "21251218900047e",
   "outputs": [],
   "execution_count": 23
  },
  {
   "metadata": {
    "ExecuteTime": {
     "end_time": "2024-09-16T22:34:12.959183Z",
     "start_time": "2024-09-16T22:34:12.754152Z"
    }
   },
   "cell_type": "code",
   "source": [
    "plt.title('Time to Resolution')\n",
    "plt.xlabel('Minutes')\n",
    "plt.hist(gen['ta'], bins=200)\n",
    "plt.show()"
   ],
   "id": "764c954c25f3824b",
   "outputs": [
    {
     "data": {
      "text/plain": [
       "<Figure size 640x480 with 1 Axes>"
      ],
      "image/png": "[encoded data removed]"
     },
     "metadata": {},
     "output_type": "display_data"
    }
   ],
   "execution_count": 24
  }
 ],
 "metadata": {
  "kernelspec": {
   "display_name": "tp6",
   "language": "python",
   "name": "tp6"
  },
  "language_info": {
   "codemirror_mode": {
    "name": "ipython",
    "version": 2
   },
   "file_extension": ".py",
   "mimetype": "text/x-python",
   "name": "python",
   "nbconvert_exporter": "python",
   "pygments_lexer": "ipython2",
   "version": "2.7.6"
  }
 },
 "nbformat": 4,
 "nbformat_minor": 5
}
