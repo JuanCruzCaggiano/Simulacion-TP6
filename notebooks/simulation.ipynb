{
 "cells": [
  {
   "metadata": {},
   "cell_type": "markdown",
   "source": [
    "# Optimizacion de Desarolladores por Seniority\n",
    "\n"
   ],
   "id": "4254556a7fbbe65"
  },
  {
   "metadata": {},
   "cell_type": "markdown",
   "source": [
    "## Variables Exogenas\n",
    "\n",
    "### Datos\n",
    "\n",
    "* **IA**: Intervalo entre Arribos [minutos]\n",
    "* **TA**: Tiempo de Atencion [minutos]\n",
    "\n",
    "Estan dados en base a distintas funciones de distribucion de probabilidad, obtenidas mediante _fitting_ de datos reales.\n"
   ],
   "id": "5f218f36fd5cc190"
  },
  {
   "metadata": {},
   "cell_type": "code",
   "outputs": [],
   "execution_count": null,
   "source": [
    "import dataclasses\n",
    "\n",
    "from scipy.stats import stats\n",
    "\n",
    "\n",
    "def time_between_arrivals() -> int:\n",
    "    \"\"\"\n",
    "    Provides the next arrival the time delta for the next arrival\n",
    "    \n",
    "    Returns:\n",
    "        int: how many minutes until the next arrival\n",
    "    \"\"\"\n",
    "    best_params = {'b': 8.081771083639762, 'loc': -400.05903534867156, 'scale': 400.0590353486715}\n",
    "    [next_arrival_in] = stats.pareto.rvs(**best_params, size=1)\n",
    "    return next_arrival_in\n",
    "\n",
    "\n",
    "def service_time() -> int:\n",
    "    \"\"\"\n",
    "    Provides the time delta for the next service\n",
    "    \n",
    "    Returns:\n",
    "        int: how many minutes the service will take\n",
    "    \"\"\"\n",
    "    best_params = {'a': 1.0849480846709834, 'b': 1.3832003644016413, 'c': 1.9794855101439612, 'z': 0.982926014368478,\n",
    "                   'loc': 0.9477414716993133, 'scale': 1296.2750378147014}\n",
    "    [busy_time] = stats.pareto.rvs(**best_params, size=1)\n",
    "    return busy_time"
   ],
   "id": "f6628d37d715dd9c"
  },
  {
   "metadata": {},
   "cell_type": "markdown",
   "source": "",
   "id": "340a54f24ebec118"
  },
  {
   "metadata": {},
   "cell_type": "markdown",
   "source": [
    "### Control\n",
    "\n",
    "* **NPS**: Numero de Programadores Sr\n",
    "* **NPJ**: Numero de Programadores Jr"
   ],
   "id": "a25f048c51b290e6"
  },
  {
   "metadata": {},
   "cell_type": "code",
   "outputs": [],
   "execution_count": null,
   "source": [
    "@dataclasses.dataclass\n",
    "class ControlVector:\n",
    "    \"\"\"\n",
    "    Control vector for the simulation\n",
    "    \n",
    "    Attributes:\n",
    "        nps (int): Number of Senior Programmers\n",
    "        npj (int): Number of Junior Programmers\n",
    "    \"\"\"\n",
    "    nps: int\n",
    "    npj: int"
   ],
   "id": "33296b85a39eddbe"
  },
  {
   "metadata": {},
   "cell_type": "markdown",
   "source": [
    "## Variables Endogenas\n",
    "\n",
    "### Estado\n",
    "\n",
    "* **NSH**: Numero de tickets en cola de prioridad alta\n",
    "* **NSL**: Numero de tickets en cola de prioridad baja"
   ],
   "id": "470fa00c4c11ce65"
  },
  {
   "metadata": {},
   "cell_type": "code",
   "outputs": [],
   "execution_count": null,
   "source": [
    "@dataclasses.dataclass\n",
    "class StatusVector:\n",
    "    \"\"\"\n",
    "    Status vector for the simulation\n",
    "    \n",
    "    Attributes:\n",
    "        nsh (int): Number of high priority tickets\n",
    "        nsl (int): Number of low priority tickets\n",
    "    \"\"\"\n",
    "    nsh: int\n",
    "    nsl: int"
   ],
   "id": "85edda964df41f35"
  },
  {
   "metadata": {},
   "cell_type": "markdown",
   "source": [
    "### Resultados\n",
    "\n",
    "* **PPS**: Promedio de Permanencia en el Sistema [minutos]\n",
    "* **PEC**: Promedio de Permanencia en la Cola [minutos]\n",
    "* **PTO**: Promedio de Tiempo Ocioso [minutos]\n",
    "* **PTTS**: Porcentaje de Tickets de Baja Prioridad Atendidos por Sr [%]"
   ],
   "id": "7b022d93155d84e5"
  },
  {
   "metadata": {},
   "cell_type": "code",
   "outputs": [],
   "execution_count": null,
   "source": [
    "@dataclasses.dataclass\n",
    "class ResultVector:\n",
    "    \"\"\"\n",
    "    Result vector for the simulation\n",
    "    \n",
    "    Attributes:\n",
    "        pps (float): Average time in the system\n",
    "        pec (float): Average time in the queue\n",
    "        pto (float): Average idle time\n",
    "        ptts (float): Percentage of low priority tickets attended by Sr\n",
    "    \"\"\"\n",
    "    pps: float\n",
    "    pec: float\n",
    "    pto: float\n",
    "    ptts: float"
   ],
   "id": "2b28bb98d278b7bb"
  },
  {
   "metadata": {},
   "cell_type": "markdown",
   "source": [
    "## Tabla de Eventos Indepedientes\n",
    "\n",
    "| Evento       | Evento Futuro No Condicionado | Evento Futuro Condicionado | Condicion                                 |\n",
    "|--------------|-------------------------------|----------------------------|-------------------------------------------|\n",
    "| LLEGADA      | LLEGADA                       | Salida Sr[i]               | NSH <= NPS \\|\\| (NSL > NPJ && NSH <= NPS) |\n",
    "| ...          | ...                           | Salida Jr[j]               | NSL <= NPJ                                |\n",
    "| Salida Sr[i] |                               | Salida Sr[i]               | NSH > NPS \\|\\| (NSL > NPJ && NSH > NPS)   |\n",
    "| Salida Jr[j] |                               | Salida Jr[j]               | NSL > NPJ                                 |\n",
    "\n",
    "## Tabla de Eventos Futuros\n",
    "\n",
    "TPLL (Tiempo de Llegada del Proximo Ticket), TPSSi (Tiempo de Proxima Salida del Programador Sr i-esimo), TPSJj (Tiempo de Proximo Salida del Programador j-esimo)"
   ],
   "id": "b81071eafccaa178"
  },
  {
   "metadata": {},
   "cell_type": "code",
   "outputs": [],
   "execution_count": null,
   "source": [
    "@dataclasses.dataclass\n",
    "class FutureEventsVector:\n",
    "    \"\"\"\n",
    "    Future events vector for the simulation\n",
    "    \n",
    "    Attributes:\n",
    "        tpll (int): Time of the next ticket arrival\n",
    "        tpss (int): Time of the next Senior Programmer exit\n",
    "        tpsj (int): Time of the next Junior Programmer exit\n",
    "    \"\"\"\n",
    "    tpll: int\n",
    "    tpss: list[int]\n",
    "    tpsj: list[int]"
   ],
   "id": "970cf35f4afa0"
  }
 ],
 "metadata": {
  "kernelspec": {
   "display_name": "Python 3",
   "language": "python",
   "name": "python3"
  },
  "language_info": {
   "codemirror_mode": {
    "name": "ipython",
    "version": 2
   },
   "file_extension": ".py",
   "mimetype": "text/x-python",
   "name": "python",
   "nbconvert_exporter": "python",
   "pygments_lexer": "ipython2",
   "version": "2.7.6"
  }
 },
 "nbformat": 4,
 "nbformat_minor": 5
}
